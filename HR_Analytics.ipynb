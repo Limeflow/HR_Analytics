{
 "cells": [
  {
   "cell_type": "markdown",
   "metadata": {
    "colab_type": "text",
    "id": "qCNcqr6-tfzE"
   },
   "source": [
    "<p align=\"center\">\n",
    "  <img src=\"https://i.ibb.co/rF4F9kx/logo.png\">\n",
    "</p>"
   ]
  },
  {
   "cell_type": "markdown",
   "metadata": {
    "colab_type": "text",
    "id": "0L8bAOBotMP9"
   },
   "source": [
    "# Abstract:\n",
    "**ScaleneWorks** supports several information technology (IT) companies in India with their talent acquisition. One of the challenge they face is about **30%** of the candidates who accept the jobs offers, do not join the company. This lead to\n",
    "huge loss of revenue and time as the companies initiate the recruitment\n",
    "process again to fill the workforce demand. So scaleneWorks want to find out if a model can be build to predict the likelihood of a candidate joining the\n",
    "company. If the likelihood is high, then the company can go ahead and offer\n",
    "the jobs to the candidates.\n",
    "\n",
    "# DataSet Description:\n",
    "\n",
    "**Candidate**: Reference number; it is a unique to identify the candidate.\n",
    "\n",
    "**DOJextended**: Binary variable identifying candidate asked for date of joining extension (yes/no).\n",
    "\n",
    "**Duration to accept the offer**: Number of days taken by the candidate to accept the offer (Scale variable).\n",
    "\n",
    "**Notice Period**: Notice period to be served in the parting company before candidate can join this company.\n",
    "\n",
    "**Offered band**: Band offered to the candidate based on experience, performance in the interview rounds (E0/E1/E2/E3).\n",
    "\n",
    "**Percentage hike expected**: Percentage hike expected by the candidate (Scale variable).\n",
    "\n",
    "**Percentage hike offered**: Percentage hike offered by the company (Scale variable).\n",
    "\n",
    "**Joining bonus**: Binary variable indicating if joining bonus was given or not (yes/no).\n",
    "\n",
    "**Gender**: Gender of the candidate (male/female).\n",
    "\n",
    "**Candidate source**: Source form which resume of the candidates was obtained (Employee referral/Agency/Direct).\n",
    "\n",
    "**REX (in yrs)**: Relevant years of experience of the candidate for the position offered.\n",
    "\n",
    "**LOB**: Line of business for which offer was rolled out.\n",
    "\n",
    "**Age**: Age of the candidate.\n",
    "\n",
    "**Joining location**: Company location for which the offer was rolled out for the candidate to join.\n",
    "\n",
    "**Candidate relocation status**: Binary Variable indicating whether the candidate has to relocate from one city to another city for joining (yes/no).\n",
    "\n",
    "**HR Status**: Final joining status of the candidate (joined/ no joined).\n",
    "\n",
    "# Insight of Data:\n",
    "\n",
    "**Number of attributes:** 18\n",
    "\n",
    "**Target attribute:** Status\n",
    "\n",
    "**Any missing values:** None\n",
    "\n",
    "# Requirement:\n",
    "**Python 3.x**\n",
    "\n",
    "### Basic Libaries:\n",
    "**Numpy**: NumPy is a library for the Python programming language, adding support for large, multi-dimensional arrays and matrices, along with a large collection of high-level mathematical functions to operate on these arrays.\n",
    "\n",
    "**Pandas**: In computer programming, pandas is a software library written for the Python programming language for data manipulation and analysis. In particular, it offers data structures and operations for manipulating numerical tables and time series. It is free software released under the three-clause BSD license.\n",
    "\n",
    "**Seaborn**: Seaborn is a Python data visualization library based on matplotlib. It provides a high-level interface for drawing attractive and informative statistical graphics.\n",
    "\n",
    "**Matplotlib**: Matplotlib is a plotting library for the Python programming language and its numerical mathematics extension NumPy. It provides an object-oriented API for embedding plots into applications using general-purpose GUI toolkits."
   ]
  },
  {
   "cell_type": "code",
   "execution_count": 0,
   "metadata": {
    "colab": {},
    "colab_type": "code",
    "id": "xmUtcf-uNeb1"
   },
   "outputs": [],
   "source": [
    "#Import the required libaries.\n",
    "import numpy as np\n",
    "import pandas as pd\n",
    "import seaborn as sns\n",
    "sns.set_style(\"whitegrid\")\n",
    "import itertools\n",
    "import matplotlib.pyplot as plt\n",
    "%matplotlib inline\n",
    "\n",
    "#Misc to ignore warnings\n",
    "import warnings\n",
    "warnings.filterwarnings(\"ignore\")"
   ]
  },
  {
   "cell_type": "code",
   "execution_count": 0,
   "metadata": {
    "colab": {
     "base_uri": "https://localhost:8080/",
     "height": 34
    },
    "colab_type": "code",
    "id": "39RTCb-wNvfw",
    "outputId": "241d14a6-b15d-4035-b13c-aa7921d34d8e"
   },
   "outputs": [
    {
     "name": "stdout",
     "output_type": "stream",
     "text": [
      "Drive already mounted at /drive/; to attempt to forcibly remount, call drive.mount(\"/drive/\", force_remount=True).\n"
     ]
    }
   ],
   "source": [
    "#Mount Drive\n",
    "from google.colab import drive\n",
    "drive.mount('/drive/')"
   ]
  },
  {
   "cell_type": "code",
   "execution_count": 0,
   "metadata": {
    "colab": {},
    "colab_type": "code",
    "id": "c5pfRUpSODsp"
   },
   "outputs": [],
   "source": [
    "#Change directory \n",
    "import os \n",
    "os.chdir('/drive/My Drive/data/HR')"
   ]
  },
  {
   "cell_type": "code",
   "execution_count": 0,
   "metadata": {
    "colab": {},
    "colab_type": "code",
    "id": "F0mG-XhGOlFw"
   },
   "outputs": [],
   "source": [
    "#Read the csv using the pandas to df\n",
    "df = pd.read_csv('HR_data.csv')"
   ]
  },
  {
   "cell_type": "code",
   "execution_count": 0,
   "metadata": {
    "colab": {
     "base_uri": "https://localhost:8080/",
     "height": 217
    },
    "colab_type": "code",
    "id": "lhap_Kk4O7rx",
    "outputId": "b8d79720-c310-4ac0-cf5b-e6cdabc6dfa8"
   },
   "outputs": [
    {
     "data": {
      "text/html": [
       "<div>\n",
       "<style scoped>\n",
       "    .dataframe tbody tr th:only-of-type {\n",
       "        vertical-align: middle;\n",
       "    }\n",
       "\n",
       "    .dataframe tbody tr th {\n",
       "        vertical-align: top;\n",
       "    }\n",
       "\n",
       "    .dataframe thead th {\n",
       "        text-align: right;\n",
       "    }\n",
       "</style>\n",
       "<table border=\"1\" class=\"dataframe\">\n",
       "  <thead>\n",
       "    <tr style=\"text-align: right;\">\n",
       "      <th></th>\n",
       "      <th>SLNO</th>\n",
       "      <th>Candidate.Ref</th>\n",
       "      <th>DOJ.Extended</th>\n",
       "      <th>Duration.to.accept.offer</th>\n",
       "      <th>Notice.period</th>\n",
       "      <th>Offered.band</th>\n",
       "      <th>Pecent.hike.expected.in.CTC</th>\n",
       "      <th>Percent.hike.offered.in.CTC</th>\n",
       "      <th>Percent.difference.CTC</th>\n",
       "      <th>Joining.Bonus</th>\n",
       "      <th>Candidate.relocate.actual</th>\n",
       "      <th>Gender</th>\n",
       "      <th>Candidate.Source</th>\n",
       "      <th>Rex.in.Yrs</th>\n",
       "      <th>LOB</th>\n",
       "      <th>Location</th>\n",
       "      <th>Age</th>\n",
       "      <th>Status</th>\n",
       "    </tr>\n",
       "  </thead>\n",
       "  <tbody>\n",
       "    <tr>\n",
       "      <th>0</th>\n",
       "      <td>1</td>\n",
       "      <td>2110407</td>\n",
       "      <td>Yes</td>\n",
       "      <td>14</td>\n",
       "      <td>30</td>\n",
       "      <td>E2</td>\n",
       "      <td>-20.79</td>\n",
       "      <td>13.16</td>\n",
       "      <td>42.86</td>\n",
       "      <td>No</td>\n",
       "      <td>No</td>\n",
       "      <td>Female</td>\n",
       "      <td>Agency</td>\n",
       "      <td>7</td>\n",
       "      <td>ERS</td>\n",
       "      <td>Noida</td>\n",
       "      <td>34</td>\n",
       "      <td>Joined</td>\n",
       "    </tr>\n",
       "    <tr>\n",
       "      <th>1</th>\n",
       "      <td>2</td>\n",
       "      <td>2112635</td>\n",
       "      <td>No</td>\n",
       "      <td>18</td>\n",
       "      <td>30</td>\n",
       "      <td>E2</td>\n",
       "      <td>50.00</td>\n",
       "      <td>320.00</td>\n",
       "      <td>180.00</td>\n",
       "      <td>No</td>\n",
       "      <td>No</td>\n",
       "      <td>Male</td>\n",
       "      <td>Employee Referral</td>\n",
       "      <td>8</td>\n",
       "      <td>INFRA</td>\n",
       "      <td>Chennai</td>\n",
       "      <td>34</td>\n",
       "      <td>Joined</td>\n",
       "    </tr>\n",
       "    <tr>\n",
       "      <th>2</th>\n",
       "      <td>3</td>\n",
       "      <td>2112838</td>\n",
       "      <td>No</td>\n",
       "      <td>3</td>\n",
       "      <td>45</td>\n",
       "      <td>E2</td>\n",
       "      <td>42.84</td>\n",
       "      <td>42.84</td>\n",
       "      <td>0.00</td>\n",
       "      <td>No</td>\n",
       "      <td>No</td>\n",
       "      <td>Male</td>\n",
       "      <td>Agency</td>\n",
       "      <td>4</td>\n",
       "      <td>INFRA</td>\n",
       "      <td>Noida</td>\n",
       "      <td>27</td>\n",
       "      <td>Joined</td>\n",
       "    </tr>\n",
       "    <tr>\n",
       "      <th>3</th>\n",
       "      <td>4</td>\n",
       "      <td>2115021</td>\n",
       "      <td>No</td>\n",
       "      <td>26</td>\n",
       "      <td>30</td>\n",
       "      <td>E2</td>\n",
       "      <td>42.84</td>\n",
       "      <td>42.84</td>\n",
       "      <td>0.00</td>\n",
       "      <td>No</td>\n",
       "      <td>No</td>\n",
       "      <td>Male</td>\n",
       "      <td>Employee Referral</td>\n",
       "      <td>4</td>\n",
       "      <td>INFRA</td>\n",
       "      <td>Noida</td>\n",
       "      <td>34</td>\n",
       "      <td>Joined</td>\n",
       "    </tr>\n",
       "    <tr>\n",
       "      <th>4</th>\n",
       "      <td>5</td>\n",
       "      <td>2115125</td>\n",
       "      <td>Yes</td>\n",
       "      <td>1</td>\n",
       "      <td>120</td>\n",
       "      <td>E2</td>\n",
       "      <td>42.59</td>\n",
       "      <td>42.59</td>\n",
       "      <td>0.00</td>\n",
       "      <td>No</td>\n",
       "      <td>Yes</td>\n",
       "      <td>Male</td>\n",
       "      <td>Employee Referral</td>\n",
       "      <td>6</td>\n",
       "      <td>INFRA</td>\n",
       "      <td>Noida</td>\n",
       "      <td>34</td>\n",
       "      <td>Joined</td>\n",
       "    </tr>\n",
       "  </tbody>\n",
       "</table>\n",
       "</div>"
      ],
      "text/plain": [
       "   SLNO  Candidate.Ref DOJ.Extended  ...  Location  Age  Status\n",
       "0     1        2110407          Yes  ...     Noida   34  Joined\n",
       "1     2        2112635           No  ...   Chennai   34  Joined\n",
       "2     3        2112838           No  ...     Noida   27  Joined\n",
       "3     4        2115021           No  ...     Noida   34  Joined\n",
       "4     5        2115125          Yes  ...     Noida   34  Joined\n",
       "\n",
       "[5 rows x 18 columns]"
      ]
     },
     "execution_count": 5,
     "metadata": {
      "tags": []
     },
     "output_type": "execute_result"
    }
   ],
   "source": [
    "#Display first 5 rows\n",
    "df.head()"
   ]
  },
  {
   "cell_type": "code",
   "execution_count": 0,
   "metadata": {
    "colab": {
     "base_uri": "https://localhost:8080/",
     "height": 34
    },
    "colab_type": "code",
    "id": "Z_PMCw-NPCQT",
    "outputId": "d862881b-5e01-4001-ed93-901b9344f581"
   },
   "outputs": [
    {
     "data": {
      "text/plain": [
       "(8995, 18)"
      ]
     },
     "execution_count": 6,
     "metadata": {
      "tags": []
     },
     "output_type": "execute_result"
    }
   ],
   "source": [
    "#Checking shape\n",
    "df.shape"
   ]
  },
  {
   "cell_type": "code",
   "execution_count": 0,
   "metadata": {
    "colab": {
     "base_uri": "https://localhost:8080/",
     "height": 354
    },
    "colab_type": "code",
    "id": "MeXBcVDFQrH_",
    "outputId": "7369776e-87dc-41f0-84b4-c8dd7000f144"
   },
   "outputs": [
    {
     "data": {
      "text/plain": [
       "SLNO                           0\n",
       "Candidate.Ref                  0\n",
       "DOJ.Extended                   0\n",
       "Duration.to.accept.offer       0\n",
       "Notice.period                  0\n",
       "Offered.band                   0\n",
       "Pecent.hike.expected.in.CTC    0\n",
       "Percent.hike.offered.in.CTC    0\n",
       "Percent.difference.CTC         0\n",
       "Joining.Bonus                  0\n",
       "Candidate.relocate.actual      0\n",
       "Gender                         0\n",
       "Candidate.Source               0\n",
       "Rex.in.Yrs                     0\n",
       "LOB                            0\n",
       "Location                       0\n",
       "Age                            0\n",
       "Status                         0\n",
       "dtype: int64"
      ]
     },
     "execution_count": 7,
     "metadata": {
      "tags": []
     },
     "output_type": "execute_result"
    }
   ],
   "source": [
    "#Checking for nan values\n",
    "df.isnull().sum()"
   ]
  },
  {
   "cell_type": "code",
   "execution_count": 0,
   "metadata": {
    "colab": {
     "base_uri": "https://localhost:8080/",
     "height": 354
    },
    "colab_type": "code",
    "id": "izZe-BjkQ4hv",
    "outputId": "a36a3503-b3f3-491c-f175-f302400234da"
   },
   "outputs": [
    {
     "data": {
      "text/plain": [
       "SLNO                             int64\n",
       "Candidate.Ref                    int64\n",
       "DOJ.Extended                    object\n",
       "Duration.to.accept.offer         int64\n",
       "Notice.period                    int64\n",
       "Offered.band                    object\n",
       "Pecent.hike.expected.in.CTC    float64\n",
       "Percent.hike.offered.in.CTC    float64\n",
       "Percent.difference.CTC         float64\n",
       "Joining.Bonus                   object\n",
       "Candidate.relocate.actual       object\n",
       "Gender                          object\n",
       "Candidate.Source                object\n",
       "Rex.in.Yrs                       int64\n",
       "LOB                             object\n",
       "Location                        object\n",
       "Age                              int64\n",
       "Status                          object\n",
       "dtype: object"
      ]
     },
     "execution_count": 8,
     "metadata": {
      "tags": []
     },
     "output_type": "execute_result"
    }
   ],
   "source": [
    "#Cheking dtype of each attribute\n",
    "df.dtypes"
   ]
  },
  {
   "cell_type": "code",
   "execution_count": 0,
   "metadata": {
    "colab": {
     "base_uri": "https://localhost:8080/",
     "height": 123
    },
    "colab_type": "code",
    "id": "mQtS6FvWeA_n",
    "outputId": "9d3f82bd-1336-4049-a9b2-4eaaa40e76f9"
   },
   "outputs": [
    {
     "data": {
      "text/plain": [
       "Index(['SLNO', 'Candidate.Ref', 'DOJ.Extended', 'Duration.to.accept.offer',\n",
       "       'Notice.period', 'Offered.band', 'Pecent.hike.expected.in.CTC',\n",
       "       'Percent.hike.offered.in.CTC', 'Percent.difference.CTC',\n",
       "       'Joining.Bonus', 'Candidate.relocate.actual', 'Gender',\n",
       "       'Candidate.Source', 'Rex.in.Yrs', 'LOB', 'Location', 'Age', 'Status'],\n",
       "      dtype='object')"
      ]
     },
     "execution_count": 9,
     "metadata": {
      "tags": []
     },
     "output_type": "execute_result"
    }
   ],
   "source": [
    "# Display columns\n",
    "df.columns"
   ]
  },
  {
   "cell_type": "code",
   "execution_count": 0,
   "metadata": {
    "colab": {},
    "colab_type": "code",
    "id": "5r0NsQF0xkuT"
   },
   "outputs": [],
   "source": [
    "#Renaming the column names\n",
    "df = df.rename(columns={'Candidate.Ref':'Candidate_ref', 'DOJ.Extended':'DOJ_extended', 'Duration.to.accept.offer':'Accept_duration',\n",
    "       'Notice.period':'Notice_period', 'Offered.band':'Offered_band', 'Pecent.hike.expected.in.CTC':'Percent_hike_expected',\n",
    "       'Percent.hike.offered.in.CTC':'Percent_hike_offered', 'Percent.difference.CTC':'Percent_difference',\n",
    "       'Joining.Bonus':'Joining_Bonus', 'Candidate.relocate.actual':'Relocated','Candidate.Source':'Source','Rex.in.Yrs':'Rex'})"
   ]
  },
  {
   "cell_type": "code",
   "execution_count": 0,
   "metadata": {
    "colab": {
     "base_uri": "https://localhost:8080/",
     "height": 123
    },
    "colab_type": "code",
    "id": "vIkQoQVczAcG",
    "outputId": "626fb996-da8d-45fe-fe75-1c9c5ddbe397"
   },
   "outputs": [
    {
     "data": {
      "text/plain": [
       "Index(['SLNO', 'Candidate_ref', 'DOJ_extended', 'Accept_duration',\n",
       "       'Notice_period', 'Offered_band', 'Percent_hike_expected',\n",
       "       'Percent_hike_offered', 'Percent_difference', 'Joining_Bonus',\n",
       "       'Relocated', 'Gender', 'Source', 'Rex', 'LOB', 'Location', 'Age',\n",
       "       'Status'],\n",
       "      dtype='object')"
      ]
     },
     "execution_count": 11,
     "metadata": {
      "tags": []
     },
     "output_type": "execute_result"
    }
   ],
   "source": [
    "df.columns"
   ]
  },
  {
   "cell_type": "code",
   "execution_count": 0,
   "metadata": {
    "colab": {},
    "colab_type": "code",
    "id": "WJeuT6WDeO2b"
   },
   "outputs": [],
   "source": [
    "#Rearranging Columns names\n",
    "df = df[['SLNO', 'Candidate_ref', 'Accept_duration','Notice_period','Percent_hike_expected',\n",
    "         'Percent_hike_offered', 'Percent_difference','Rex','Age','DOJ_extended','Offered_band'\n",
    "         ,'Joining_Bonus', 'Relocated', 'Gender','Source', 'LOB', 'Location','Status']]"
   ]
  },
  {
   "cell_type": "code",
   "execution_count": 0,
   "metadata": {
    "colab": {
     "base_uri": "https://localhost:8080/",
     "height": 267
    },
    "colab_type": "code",
    "id": "o8eEY73Vi6LD",
    "outputId": "d19e77b3-b0a9-4b5d-b02e-87e51776e8fd"
   },
   "outputs": [
    {
     "data": {
      "text/html": [
       "<div>\n",
       "<style scoped>\n",
       "    .dataframe tbody tr th:only-of-type {\n",
       "        vertical-align: middle;\n",
       "    }\n",
       "\n",
       "    .dataframe tbody tr th {\n",
       "        vertical-align: top;\n",
       "    }\n",
       "\n",
       "    .dataframe thead th {\n",
       "        text-align: right;\n",
       "    }\n",
       "</style>\n",
       "<table border=\"1\" class=\"dataframe\">\n",
       "  <thead>\n",
       "    <tr style=\"text-align: right;\">\n",
       "      <th></th>\n",
       "      <th>SLNO</th>\n",
       "      <th>Candidate_ref</th>\n",
       "      <th>Accept_duration</th>\n",
       "      <th>Notice_period</th>\n",
       "      <th>Percent_hike_expected</th>\n",
       "      <th>Percent_hike_offered</th>\n",
       "      <th>Percent_difference</th>\n",
       "      <th>Rex</th>\n",
       "      <th>Age</th>\n",
       "      <th>DOJ_extended</th>\n",
       "      <th>Offered_band</th>\n",
       "      <th>Joining_Bonus</th>\n",
       "      <th>Relocated</th>\n",
       "      <th>Gender</th>\n",
       "      <th>Source</th>\n",
       "      <th>LOB</th>\n",
       "      <th>Location</th>\n",
       "      <th>Status</th>\n",
       "    </tr>\n",
       "  </thead>\n",
       "  <tbody>\n",
       "    <tr>\n",
       "      <th>0</th>\n",
       "      <td>1</td>\n",
       "      <td>2110407</td>\n",
       "      <td>14</td>\n",
       "      <td>30</td>\n",
       "      <td>-20.79</td>\n",
       "      <td>13.16</td>\n",
       "      <td>42.86</td>\n",
       "      <td>7</td>\n",
       "      <td>34</td>\n",
       "      <td>Yes</td>\n",
       "      <td>E2</td>\n",
       "      <td>No</td>\n",
       "      <td>No</td>\n",
       "      <td>Female</td>\n",
       "      <td>Agency</td>\n",
       "      <td>ERS</td>\n",
       "      <td>Noida</td>\n",
       "      <td>Joined</td>\n",
       "    </tr>\n",
       "    <tr>\n",
       "      <th>1</th>\n",
       "      <td>2</td>\n",
       "      <td>2112635</td>\n",
       "      <td>18</td>\n",
       "      <td>30</td>\n",
       "      <td>50.00</td>\n",
       "      <td>320.00</td>\n",
       "      <td>180.00</td>\n",
       "      <td>8</td>\n",
       "      <td>34</td>\n",
       "      <td>No</td>\n",
       "      <td>E2</td>\n",
       "      <td>No</td>\n",
       "      <td>No</td>\n",
       "      <td>Male</td>\n",
       "      <td>Employee Referral</td>\n",
       "      <td>INFRA</td>\n",
       "      <td>Chennai</td>\n",
       "      <td>Joined</td>\n",
       "    </tr>\n",
       "    <tr>\n",
       "      <th>2</th>\n",
       "      <td>3</td>\n",
       "      <td>2112838</td>\n",
       "      <td>3</td>\n",
       "      <td>45</td>\n",
       "      <td>42.84</td>\n",
       "      <td>42.84</td>\n",
       "      <td>0.00</td>\n",
       "      <td>4</td>\n",
       "      <td>27</td>\n",
       "      <td>No</td>\n",
       "      <td>E2</td>\n",
       "      <td>No</td>\n",
       "      <td>No</td>\n",
       "      <td>Male</td>\n",
       "      <td>Agency</td>\n",
       "      <td>INFRA</td>\n",
       "      <td>Noida</td>\n",
       "      <td>Joined</td>\n",
       "    </tr>\n",
       "    <tr>\n",
       "      <th>3</th>\n",
       "      <td>4</td>\n",
       "      <td>2115021</td>\n",
       "      <td>26</td>\n",
       "      <td>30</td>\n",
       "      <td>42.84</td>\n",
       "      <td>42.84</td>\n",
       "      <td>0.00</td>\n",
       "      <td>4</td>\n",
       "      <td>34</td>\n",
       "      <td>No</td>\n",
       "      <td>E2</td>\n",
       "      <td>No</td>\n",
       "      <td>No</td>\n",
       "      <td>Male</td>\n",
       "      <td>Employee Referral</td>\n",
       "      <td>INFRA</td>\n",
       "      <td>Noida</td>\n",
       "      <td>Joined</td>\n",
       "    </tr>\n",
       "    <tr>\n",
       "      <th>4</th>\n",
       "      <td>5</td>\n",
       "      <td>2115125</td>\n",
       "      <td>1</td>\n",
       "      <td>120</td>\n",
       "      <td>42.59</td>\n",
       "      <td>42.59</td>\n",
       "      <td>0.00</td>\n",
       "      <td>6</td>\n",
       "      <td>34</td>\n",
       "      <td>Yes</td>\n",
       "      <td>E2</td>\n",
       "      <td>No</td>\n",
       "      <td>Yes</td>\n",
       "      <td>Male</td>\n",
       "      <td>Employee Referral</td>\n",
       "      <td>INFRA</td>\n",
       "      <td>Noida</td>\n",
       "      <td>Joined</td>\n",
       "    </tr>\n",
       "  </tbody>\n",
       "</table>\n",
       "</div>"
      ],
      "text/plain": [
       "   SLNO  Candidate_ref  Accept_duration  ...    LOB  Location  Status\n",
       "0     1        2110407               14  ...    ERS     Noida  Joined\n",
       "1     2        2112635               18  ...  INFRA   Chennai  Joined\n",
       "2     3        2112838                3  ...  INFRA     Noida  Joined\n",
       "3     4        2115021               26  ...  INFRA     Noida  Joined\n",
       "4     5        2115125                1  ...  INFRA     Noida  Joined\n",
       "\n",
       "[5 rows x 18 columns]"
      ]
     },
     "execution_count": 13,
     "metadata": {
      "tags": []
     },
     "output_type": "execute_result"
    }
   ],
   "source": [
    "df.head()"
   ]
  },
  {
   "cell_type": "code",
   "execution_count": 0,
   "metadata": {
    "colab": {},
    "colab_type": "code",
    "id": "0qDVmZeak-i2"
   },
   "outputs": [],
   "source": [
    "#Copying the df to df1\n",
    "df1 = df.copy()"
   ]
  },
  {
   "cell_type": "code",
   "execution_count": 0,
   "metadata": {
    "colab": {},
    "colab_type": "code",
    "id": "0Y66LGi4lEE9"
   },
   "outputs": [],
   "source": [
    "#Dropping SLNO which is just like an Index\n",
    "df1.drop('SLNO',1,inplace=True)"
   ]
  },
  {
   "cell_type": "code",
   "execution_count": 0,
   "metadata": {
    "colab": {
     "base_uri": "https://localhost:8080/",
     "height": 267
    },
    "colab_type": "code",
    "id": "mGHUczyVlT82",
    "outputId": "08cd7563-e2a8-4b11-b2f9-8e8c50f7cc66"
   },
   "outputs": [
    {
     "data": {
      "text/html": [
       "<div>\n",
       "<style scoped>\n",
       "    .dataframe tbody tr th:only-of-type {\n",
       "        vertical-align: middle;\n",
       "    }\n",
       "\n",
       "    .dataframe tbody tr th {\n",
       "        vertical-align: top;\n",
       "    }\n",
       "\n",
       "    .dataframe thead th {\n",
       "        text-align: right;\n",
       "    }\n",
       "</style>\n",
       "<table border=\"1\" class=\"dataframe\">\n",
       "  <thead>\n",
       "    <tr style=\"text-align: right;\">\n",
       "      <th></th>\n",
       "      <th>Candidate_ref</th>\n",
       "      <th>Accept_duration</th>\n",
       "      <th>Notice_period</th>\n",
       "      <th>Percent_hike_expected</th>\n",
       "      <th>Percent_hike_offered</th>\n",
       "      <th>Percent_difference</th>\n",
       "      <th>Rex</th>\n",
       "      <th>Age</th>\n",
       "      <th>DOJ_extended</th>\n",
       "      <th>Offered_band</th>\n",
       "      <th>Joining_Bonus</th>\n",
       "      <th>Relocated</th>\n",
       "      <th>Gender</th>\n",
       "      <th>Source</th>\n",
       "      <th>LOB</th>\n",
       "      <th>Location</th>\n",
       "      <th>Status</th>\n",
       "    </tr>\n",
       "  </thead>\n",
       "  <tbody>\n",
       "    <tr>\n",
       "      <th>0</th>\n",
       "      <td>2110407</td>\n",
       "      <td>14</td>\n",
       "      <td>30</td>\n",
       "      <td>-20.79</td>\n",
       "      <td>13.16</td>\n",
       "      <td>42.86</td>\n",
       "      <td>7</td>\n",
       "      <td>34</td>\n",
       "      <td>Yes</td>\n",
       "      <td>E2</td>\n",
       "      <td>No</td>\n",
       "      <td>No</td>\n",
       "      <td>Female</td>\n",
       "      <td>Agency</td>\n",
       "      <td>ERS</td>\n",
       "      <td>Noida</td>\n",
       "      <td>Joined</td>\n",
       "    </tr>\n",
       "    <tr>\n",
       "      <th>1</th>\n",
       "      <td>2112635</td>\n",
       "      <td>18</td>\n",
       "      <td>30</td>\n",
       "      <td>50.00</td>\n",
       "      <td>320.00</td>\n",
       "      <td>180.00</td>\n",
       "      <td>8</td>\n",
       "      <td>34</td>\n",
       "      <td>No</td>\n",
       "      <td>E2</td>\n",
       "      <td>No</td>\n",
       "      <td>No</td>\n",
       "      <td>Male</td>\n",
       "      <td>Employee Referral</td>\n",
       "      <td>INFRA</td>\n",
       "      <td>Chennai</td>\n",
       "      <td>Joined</td>\n",
       "    </tr>\n",
       "    <tr>\n",
       "      <th>2</th>\n",
       "      <td>2112838</td>\n",
       "      <td>3</td>\n",
       "      <td>45</td>\n",
       "      <td>42.84</td>\n",
       "      <td>42.84</td>\n",
       "      <td>0.00</td>\n",
       "      <td>4</td>\n",
       "      <td>27</td>\n",
       "      <td>No</td>\n",
       "      <td>E2</td>\n",
       "      <td>No</td>\n",
       "      <td>No</td>\n",
       "      <td>Male</td>\n",
       "      <td>Agency</td>\n",
       "      <td>INFRA</td>\n",
       "      <td>Noida</td>\n",
       "      <td>Joined</td>\n",
       "    </tr>\n",
       "    <tr>\n",
       "      <th>3</th>\n",
       "      <td>2115021</td>\n",
       "      <td>26</td>\n",
       "      <td>30</td>\n",
       "      <td>42.84</td>\n",
       "      <td>42.84</td>\n",
       "      <td>0.00</td>\n",
       "      <td>4</td>\n",
       "      <td>34</td>\n",
       "      <td>No</td>\n",
       "      <td>E2</td>\n",
       "      <td>No</td>\n",
       "      <td>No</td>\n",
       "      <td>Male</td>\n",
       "      <td>Employee Referral</td>\n",
       "      <td>INFRA</td>\n",
       "      <td>Noida</td>\n",
       "      <td>Joined</td>\n",
       "    </tr>\n",
       "    <tr>\n",
       "      <th>4</th>\n",
       "      <td>2115125</td>\n",
       "      <td>1</td>\n",
       "      <td>120</td>\n",
       "      <td>42.59</td>\n",
       "      <td>42.59</td>\n",
       "      <td>0.00</td>\n",
       "      <td>6</td>\n",
       "      <td>34</td>\n",
       "      <td>Yes</td>\n",
       "      <td>E2</td>\n",
       "      <td>No</td>\n",
       "      <td>Yes</td>\n",
       "      <td>Male</td>\n",
       "      <td>Employee Referral</td>\n",
       "      <td>INFRA</td>\n",
       "      <td>Noida</td>\n",
       "      <td>Joined</td>\n",
       "    </tr>\n",
       "  </tbody>\n",
       "</table>\n",
       "</div>"
      ],
      "text/plain": [
       "   Candidate_ref  Accept_duration  Notice_period  ...    LOB  Location  Status\n",
       "0        2110407               14             30  ...    ERS     Noida  Joined\n",
       "1        2112635               18             30  ...  INFRA   Chennai  Joined\n",
       "2        2112838                3             45  ...  INFRA     Noida  Joined\n",
       "3        2115021               26             30  ...  INFRA     Noida  Joined\n",
       "4        2115125                1            120  ...  INFRA     Noida  Joined\n",
       "\n",
       "[5 rows x 17 columns]"
      ]
     },
     "execution_count": 16,
     "metadata": {
      "tags": []
     },
     "output_type": "execute_result"
    }
   ],
   "source": [
    "#Review the first 5 rows\n",
    "df1.head()"
   ]
  },
  {
   "cell_type": "code",
   "execution_count": 0,
   "metadata": {
    "colab": {
     "base_uri": "https://localhost:8080/",
     "height": 105
    },
    "colab_type": "code",
    "id": "_6P7Jghdmv7j",
    "outputId": "343411db-7c5b-4c94-d7d3-0dea98d487fd"
   },
   "outputs": [
    {
     "data": {
      "text/plain": [
       "Index(['Candidate_ref', 'Accept_duration', 'Notice_period',\n",
       "       'Percent_hike_expected', 'Percent_hike_offered', 'Percent_difference',\n",
       "       'Rex', 'Age', 'DOJ_extended', 'Offered_band', 'Joining_Bonus',\n",
       "       'Relocated', 'Gender', 'Source', 'LOB', 'Location', 'Status'],\n",
       "      dtype='object')"
      ]
     },
     "execution_count": 17,
     "metadata": {
      "tags": []
     },
     "output_type": "execute_result"
    }
   ],
   "source": [
    "df1.columns"
   ]
  },
  {
   "cell_type": "code",
   "execution_count": 0,
   "metadata": {
    "colab": {},
    "colab_type": "code",
    "id": "4_oUPgftm4KZ"
   },
   "outputs": [],
   "source": [
    "#Extracting catgorical varibles\n",
    "cat = ['DOJ_extended','Offered_band', 'Joining_Bonus', 'Relocated', \n",
    "       'Gender','Source', 'LOB', 'Location', 'Status']"
   ]
  },
  {
   "cell_type": "markdown",
   "metadata": {
    "colab_type": "text",
    "id": "ow6VFMQgjDE2"
   },
   "source": [
    "### Let's Talk with data "
   ]
  },
  {
   "cell_type": "code",
   "execution_count": 0,
   "metadata": {
    "colab": {
     "base_uri": "https://localhost:8080/",
     "height": 1000
    },
    "colab_type": "code",
    "id": "Rxon6Nodl28g",
    "outputId": "1f89672d-8144-4b3a-c81a-5112ca781840"
   },
   "outputs": [
    {
     "data": {
      "image/png": "[encoded data removed]",
      "text/plain": [
       "<Figure size 720x1080 with 9 Axes>"
      ]
     },
     "metadata": {
      "tags": []
     },
     "output_type": "display_data"
    }
   ],
   "source": [
    "#Count plot for the catgorical varibles\n",
    "fig=plt.subplots(figsize=(10,15))\n",
    "length=len(cat)\n",
    "for i,j in itertools.zip_longest(cat,range(length)):\n",
    "    plt.subplot(np.ceil(length/2),2,j+1)\n",
    "    plt.subplots_adjust(hspace=.5)\n",
    "    sns.countplot(x=i,data = df1)\n",
    "    plt.xticks(rotation=90)\n",
    "    plt.tight_layout()"
   ]
  },
  {
   "cell_type": "markdown",
   "metadata": {
    "colab_type": "text",
    "id": "kZ6X5QGqs9To"
   },
   "source": [
    "## Observation from the above plots\n",
    "1. Most of the candidates **didn't asked** for date of joining extension (DOJ).\n",
    "2. Band offered to the candidate based on experience, performance in the interview rounds which is **E1** in most in number.\n",
    "3. Most of the candidates **has not received** any joining bonus.\n",
    "4. Most of the candidates **has not relocated** to any new city.\n",
    "5. Most of the candidates are **Males**.\n",
    "6. Most of the resumes obtained are **direct** and followed by the **Agency**.\n",
    "7. Line of business(LOB) for which offer was give is more for **INFRA** and followed by **ERS,BFSI** and others.\n",
    "8. **Chennai** is the place where most of the candidates got placed later by **Noida & Bangalore**.\n",
    "9. Most candidates did **Joined** the offered job."
   ]
  },
  {
   "cell_type": "code",
   "execution_count": 0,
   "metadata": {
    "colab": {
     "base_uri": "https://localhost:8080/",
     "height": 70
    },
    "colab_type": "code",
    "id": "EkRCVJyU5rvB",
    "outputId": "8b913184-e7e7-4728-8ea8-2f65993ecbae"
   },
   "outputs": [
    {
     "data": {
      "text/plain": [
       "Joined        7313\n",
       "Not Joined    1682\n",
       "Name: Status, dtype: int64"
      ]
     },
     "execution_count": 20,
     "metadata": {
      "tags": []
     },
     "output_type": "execute_result"
    }
   ],
   "source": [
    "#Getting in numbers\n",
    "df1['Status'].value_counts()"
   ]
  },
  {
   "cell_type": "code",
   "execution_count": 0,
   "metadata": {
    "colab": {},
    "colab_type": "code",
    "id": "1Vedn0am7ZOi"
   },
   "outputs": [],
   "source": [
    "#Extracting catgorical varibales to list comp\n",
    "comp = ['DOJ_extended','Offered_band', 'Joining_Bonus', 'Relocated', \n",
    "       'Gender','Source', 'LOB', 'Location']"
   ]
  },
  {
   "cell_type": "code",
   "execution_count": 0,
   "metadata": {
    "colab": {
     "base_uri": "https://localhost:8080/",
     "height": 1000
    },
    "colab_type": "code",
    "id": "acnQjXyw9-og",
    "outputId": "03dbb2f3-9dbb-43f8-d522-d3af9daffedf"
   },
   "outputs": [
    {
     "data": {
      "image/png": "[encoded data removed]",
      "text/plain": [
       "<Figure size 720x1080 with 8 Axes>"
      ]
     },
     "metadata": {
      "tags": []
     },
     "output_type": "display_data"
    }
   ],
   "source": [
    "fig=plt.subplots(figsize=(10,15))\n",
    "length=len(comp)\n",
    "for i,j in itertools.zip_longest(comp,range(length)):\n",
    "    plt.subplot(np.ceil(length/2),2,j+1)\n",
    "    plt.subplots_adjust(hspace=.5)\n",
    "    sns.countplot(x=i,data = df1,hue='Status')\n",
    "    plt.xticks(rotation=90)\n",
    "    plt.tight_layout()"
   ]
  },
  {
   "cell_type": "markdown",
   "metadata": {
    "colab_type": "text",
    "id": "E4m4r7d__HKd"
   },
   "source": [
    "From the above observations we can observe most of candidates choose to join the job offered rather than the rejecting it."
   ]
  },
  {
   "cell_type": "code",
   "execution_count": 0,
   "metadata": {
    "colab": {
     "base_uri": "https://localhost:8080/",
     "height": 287
    },
    "colab_type": "code",
    "id": "OgS7Ag9aKeGN",
    "outputId": "d631ed29-46af-43c9-f00b-a6bae05333af"
   },
   "outputs": [
    {
     "data": {
      "text/html": [
       "<div>\n",
       "<style scoped>\n",
       "    .dataframe tbody tr th:only-of-type {\n",
       "        vertical-align: middle;\n",
       "    }\n",
       "\n",
       "    .dataframe tbody tr th {\n",
       "        vertical-align: top;\n",
       "    }\n",
       "\n",
       "    .dataframe thead th {\n",
       "        text-align: right;\n",
       "    }\n",
       "</style>\n",
       "<table border=\"1\" class=\"dataframe\">\n",
       "  <thead>\n",
       "    <tr style=\"text-align: right;\">\n",
       "      <th></th>\n",
       "      <th>count</th>\n",
       "      <th>mean</th>\n",
       "      <th>std</th>\n",
       "      <th>min</th>\n",
       "      <th>25%</th>\n",
       "      <th>50%</th>\n",
       "      <th>75%</th>\n",
       "      <th>max</th>\n",
       "    </tr>\n",
       "  </thead>\n",
       "  <tbody>\n",
       "    <tr>\n",
       "      <th>Candidate_ref</th>\n",
       "      <td>8995.0</td>\n",
       "      <td>2.843647e+06</td>\n",
       "      <td>486344.774552</td>\n",
       "      <td>2109586.00</td>\n",
       "      <td>2386476.00</td>\n",
       "      <td>2807482.0</td>\n",
       "      <td>3300059.50</td>\n",
       "      <td>3836076.00</td>\n",
       "    </tr>\n",
       "    <tr>\n",
       "      <th>Accept_duration</th>\n",
       "      <td>8995.0</td>\n",
       "      <td>2.143446e+01</td>\n",
       "      <td>25.811616</td>\n",
       "      <td>0.00</td>\n",
       "      <td>3.00</td>\n",
       "      <td>10.0</td>\n",
       "      <td>33.00</td>\n",
       "      <td>224.00</td>\n",
       "    </tr>\n",
       "    <tr>\n",
       "      <th>Notice_period</th>\n",
       "      <td>8995.0</td>\n",
       "      <td>3.929183e+01</td>\n",
       "      <td>22.220239</td>\n",
       "      <td>0.00</td>\n",
       "      <td>30.00</td>\n",
       "      <td>30.0</td>\n",
       "      <td>60.00</td>\n",
       "      <td>120.00</td>\n",
       "    </tr>\n",
       "    <tr>\n",
       "      <th>Percent_hike_expected</th>\n",
       "      <td>8995.0</td>\n",
       "      <td>4.386480e+01</td>\n",
       "      <td>29.788975</td>\n",
       "      <td>-68.83</td>\n",
       "      <td>27.27</td>\n",
       "      <td>40.0</td>\n",
       "      <td>53.85</td>\n",
       "      <td>359.77</td>\n",
       "    </tr>\n",
       "    <tr>\n",
       "      <th>Percent_hike_offered</th>\n",
       "      <td>8995.0</td>\n",
       "      <td>4.065736e+01</td>\n",
       "      <td>36.064060</td>\n",
       "      <td>-60.53</td>\n",
       "      <td>22.09</td>\n",
       "      <td>36.0</td>\n",
       "      <td>50.00</td>\n",
       "      <td>471.43</td>\n",
       "    </tr>\n",
       "    <tr>\n",
       "      <th>Percent_difference</th>\n",
       "      <td>8995.0</td>\n",
       "      <td>-1.573802e+00</td>\n",
       "      <td>19.610729</td>\n",
       "      <td>-67.27</td>\n",
       "      <td>-8.33</td>\n",
       "      <td>0.0</td>\n",
       "      <td>0.00</td>\n",
       "      <td>300.00</td>\n",
       "    </tr>\n",
       "    <tr>\n",
       "      <th>Rex</th>\n",
       "      <td>8995.0</td>\n",
       "      <td>4.239022e+00</td>\n",
       "      <td>2.547571</td>\n",
       "      <td>0.00</td>\n",
       "      <td>3.00</td>\n",
       "      <td>4.0</td>\n",
       "      <td>6.00</td>\n",
       "      <td>24.00</td>\n",
       "    </tr>\n",
       "    <tr>\n",
       "      <th>Age</th>\n",
       "      <td>8995.0</td>\n",
       "      <td>2.991317e+01</td>\n",
       "      <td>4.097912</td>\n",
       "      <td>20.00</td>\n",
       "      <td>27.00</td>\n",
       "      <td>29.0</td>\n",
       "      <td>34.00</td>\n",
       "      <td>60.00</td>\n",
       "    </tr>\n",
       "  </tbody>\n",
       "</table>\n",
       "</div>"
      ],
      "text/plain": [
       "                        count          mean  ...         75%         max\n",
       "Candidate_ref          8995.0  2.843647e+06  ...  3300059.50  3836076.00\n",
       "Accept_duration        8995.0  2.143446e+01  ...       33.00      224.00\n",
       "Notice_period          8995.0  3.929183e+01  ...       60.00      120.00\n",
       "Percent_hike_expected  8995.0  4.386480e+01  ...       53.85      359.77\n",
       "Percent_hike_offered   8995.0  4.065736e+01  ...       50.00      471.43\n",
       "Percent_difference     8995.0 -1.573802e+00  ...        0.00      300.00\n",
       "Rex                    8995.0  4.239022e+00  ...        6.00       24.00\n",
       "Age                    8995.0  2.991317e+01  ...       34.00       60.00\n",
       "\n",
       "[8 rows x 8 columns]"
      ]
     },
     "execution_count": 23,
     "metadata": {
      "tags": []
     },
     "output_type": "execute_result"
    }
   ],
   "source": [
    "#Statstical Info\n",
    "df1.describe().T"
   ]
  },
  {
   "cell_type": "code",
   "execution_count": 0,
   "metadata": {
    "colab": {},
    "colab_type": "code",
    "id": "wW97P7yVO1Um"
   },
   "outputs": [],
   "source": [
    "#Dropping the \"Candidate_ref\" because it is just a unique id given to candidate like random genrated index ID\n",
    "df1.drop('Candidate_ref',1,inplace=True)"
   ]
  },
  {
   "cell_type": "code",
   "execution_count": 0,
   "metadata": {
    "colab": {
     "base_uri": "https://localhost:8080/",
     "height": 267
    },
    "colab_type": "code",
    "id": "JZPFPBQMQfpc",
    "outputId": "c95a5402-59dd-4afb-d0f6-d5382c96124b"
   },
   "outputs": [
    {
     "data": {
      "text/html": [
       "<div>\n",
       "<style scoped>\n",
       "    .dataframe tbody tr th:only-of-type {\n",
       "        vertical-align: middle;\n",
       "    }\n",
       "\n",
       "    .dataframe tbody tr th {\n",
       "        vertical-align: top;\n",
       "    }\n",
       "\n",
       "    .dataframe thead th {\n",
       "        text-align: right;\n",
       "    }\n",
       "</style>\n",
       "<table border=\"1\" class=\"dataframe\">\n",
       "  <thead>\n",
       "    <tr style=\"text-align: right;\">\n",
       "      <th></th>\n",
       "      <th>Accept_duration</th>\n",
       "      <th>Notice_period</th>\n",
       "      <th>Percent_hike_expected</th>\n",
       "      <th>Percent_hike_offered</th>\n",
       "      <th>Percent_difference</th>\n",
       "      <th>Rex</th>\n",
       "      <th>Age</th>\n",
       "      <th>DOJ_extended</th>\n",
       "      <th>Offered_band</th>\n",
       "      <th>Joining_Bonus</th>\n",
       "      <th>Relocated</th>\n",
       "      <th>Gender</th>\n",
       "      <th>Source</th>\n",
       "      <th>LOB</th>\n",
       "      <th>Location</th>\n",
       "      <th>Status</th>\n",
       "    </tr>\n",
       "  </thead>\n",
       "  <tbody>\n",
       "    <tr>\n",
       "      <th>0</th>\n",
       "      <td>14</td>\n",
       "      <td>30</td>\n",
       "      <td>-20.79</td>\n",
       "      <td>13.16</td>\n",
       "      <td>42.86</td>\n",
       "      <td>7</td>\n",
       "      <td>34</td>\n",
       "      <td>Yes</td>\n",
       "      <td>E2</td>\n",
       "      <td>No</td>\n",
       "      <td>No</td>\n",
       "      <td>Female</td>\n",
       "      <td>Agency</td>\n",
       "      <td>ERS</td>\n",
       "      <td>Noida</td>\n",
       "      <td>Joined</td>\n",
       "    </tr>\n",
       "    <tr>\n",
       "      <th>1</th>\n",
       "      <td>18</td>\n",
       "      <td>30</td>\n",
       "      <td>50.00</td>\n",
       "      <td>320.00</td>\n",
       "      <td>180.00</td>\n",
       "      <td>8</td>\n",
       "      <td>34</td>\n",
       "      <td>No</td>\n",
       "      <td>E2</td>\n",
       "      <td>No</td>\n",
       "      <td>No</td>\n",
       "      <td>Male</td>\n",
       "      <td>Employee Referral</td>\n",
       "      <td>INFRA</td>\n",
       "      <td>Chennai</td>\n",
       "      <td>Joined</td>\n",
       "    </tr>\n",
       "    <tr>\n",
       "      <th>2</th>\n",
       "      <td>3</td>\n",
       "      <td>45</td>\n",
       "      <td>42.84</td>\n",
       "      <td>42.84</td>\n",
       "      <td>0.00</td>\n",
       "      <td>4</td>\n",
       "      <td>27</td>\n",
       "      <td>No</td>\n",
       "      <td>E2</td>\n",
       "      <td>No</td>\n",
       "      <td>No</td>\n",
       "      <td>Male</td>\n",
       "      <td>Agency</td>\n",
       "      <td>INFRA</td>\n",
       "      <td>Noida</td>\n",
       "      <td>Joined</td>\n",
       "    </tr>\n",
       "    <tr>\n",
       "      <th>3</th>\n",
       "      <td>26</td>\n",
       "      <td>30</td>\n",
       "      <td>42.84</td>\n",
       "      <td>42.84</td>\n",
       "      <td>0.00</td>\n",
       "      <td>4</td>\n",
       "      <td>34</td>\n",
       "      <td>No</td>\n",
       "      <td>E2</td>\n",
       "      <td>No</td>\n",
       "      <td>No</td>\n",
       "      <td>Male</td>\n",
       "      <td>Employee Referral</td>\n",
       "      <td>INFRA</td>\n",
       "      <td>Noida</td>\n",
       "      <td>Joined</td>\n",
       "    </tr>\n",
       "    <tr>\n",
       "      <th>4</th>\n",
       "      <td>1</td>\n",
       "      <td>120</td>\n",
       "      <td>42.59</td>\n",
       "      <td>42.59</td>\n",
       "      <td>0.00</td>\n",
       "      <td>6</td>\n",
       "      <td>34</td>\n",
       "      <td>Yes</td>\n",
       "      <td>E2</td>\n",
       "      <td>No</td>\n",
       "      <td>Yes</td>\n",
       "      <td>Male</td>\n",
       "      <td>Employee Referral</td>\n",
       "      <td>INFRA</td>\n",
       "      <td>Noida</td>\n",
       "      <td>Joined</td>\n",
       "    </tr>\n",
       "  </tbody>\n",
       "</table>\n",
       "</div>"
      ],
      "text/plain": [
       "   Accept_duration  Notice_period  ...  Location  Status\n",
       "0               14             30  ...     Noida  Joined\n",
       "1               18             30  ...   Chennai  Joined\n",
       "2                3             45  ...     Noida  Joined\n",
       "3               26             30  ...     Noida  Joined\n",
       "4                1            120  ...     Noida  Joined\n",
       "\n",
       "[5 rows x 16 columns]"
      ]
     },
     "execution_count": 25,
     "metadata": {
      "tags": []
     },
     "output_type": "execute_result"
    }
   ],
   "source": [
    "#Head\n",
    "df1.head()"
   ]
  },
  {
   "cell_type": "code",
   "execution_count": 0,
   "metadata": {
    "colab": {
     "base_uri": "https://localhost:8080/",
     "height": 441
    },
    "colab_type": "code",
    "id": "nK8L46iURD2W",
    "outputId": "ea2bb0eb-c8df-4168-b89c-d4b922fa8214"
   },
   "outputs": [
    {
     "data": {
      "image/png": "[encoded data removed]",
      "text/plain": [
       "<Figure size 1080x360 with 2 Axes>"
      ]
     },
     "metadata": {
      "tags": []
     },
     "output_type": "display_data"
    }
   ],
   "source": [
    "#Corelationship plot\n",
    "fig,ax=plt.subplots(figsize=(15,5))\n",
    "mask = np.zeros_like(df1.corr())\n",
    "mask[np.triu_indices_from(df1.corr())] = True\n",
    "sns.heatmap(df1.corr(),cmap='Set2',annot=True,mask=mask,ax=ax)\n",
    "plt.title('Corelation Plot')\n",
    "plt.show()"
   ]
  },
  {
   "cell_type": "markdown",
   "metadata": {
    "colab_type": "text",
    "id": "hzgOXJ4DfN2x"
   },
   "source": [
    "We can see some relationship between the \n",
    "> **Percent_hike_offered & Percent_hike_excpected**\n",
    "\n",
    "> **Percent_difference & Percent_hike_offered** \n",
    "\n",
    "> **Age & Rex**\n",
    "\n",
    "\n",
    "\n"
   ]
  },
  {
   "cell_type": "code",
   "execution_count": 0,
   "metadata": {
    "colab": {
     "base_uri": "https://localhost:8080/",
     "height": 267
    },
    "colab_type": "code",
    "id": "m4LWUuDy1uHN",
    "outputId": "0a487716-d94a-4209-82cf-93e4e4fdc31b"
   },
   "outputs": [
    {
     "data": {
      "text/html": [
       "<div>\n",
       "<style scoped>\n",
       "    .dataframe tbody tr th:only-of-type {\n",
       "        vertical-align: middle;\n",
       "    }\n",
       "\n",
       "    .dataframe tbody tr th {\n",
       "        vertical-align: top;\n",
       "    }\n",
       "\n",
       "    .dataframe thead th {\n",
       "        text-align: right;\n",
       "    }\n",
       "</style>\n",
       "<table border=\"1\" class=\"dataframe\">\n",
       "  <thead>\n",
       "    <tr style=\"text-align: right;\">\n",
       "      <th></th>\n",
       "      <th>Accept_duration</th>\n",
       "      <th>Notice_period</th>\n",
       "      <th>Percent_hike_expected</th>\n",
       "      <th>Percent_hike_offered</th>\n",
       "      <th>Percent_difference</th>\n",
       "      <th>Rex</th>\n",
       "      <th>Age</th>\n",
       "      <th>DOJ_extended</th>\n",
       "      <th>Offered_band</th>\n",
       "      <th>Joining_Bonus</th>\n",
       "      <th>Relocated</th>\n",
       "      <th>Gender</th>\n",
       "      <th>Source</th>\n",
       "      <th>LOB</th>\n",
       "      <th>Location</th>\n",
       "    </tr>\n",
       "  </thead>\n",
       "  <tbody>\n",
       "    <tr>\n",
       "      <th>0</th>\n",
       "      <td>14</td>\n",
       "      <td>30</td>\n",
       "      <td>-20.79</td>\n",
       "      <td>13.16</td>\n",
       "      <td>42.86</td>\n",
       "      <td>7</td>\n",
       "      <td>34</td>\n",
       "      <td>Yes</td>\n",
       "      <td>E2</td>\n",
       "      <td>No</td>\n",
       "      <td>No</td>\n",
       "      <td>Female</td>\n",
       "      <td>Agency</td>\n",
       "      <td>ERS</td>\n",
       "      <td>Noida</td>\n",
       "    </tr>\n",
       "    <tr>\n",
       "      <th>1</th>\n",
       "      <td>18</td>\n",
       "      <td>30</td>\n",
       "      <td>50.00</td>\n",
       "      <td>320.00</td>\n",
       "      <td>180.00</td>\n",
       "      <td>8</td>\n",
       "      <td>34</td>\n",
       "      <td>No</td>\n",
       "      <td>E2</td>\n",
       "      <td>No</td>\n",
       "      <td>No</td>\n",
       "      <td>Male</td>\n",
       "      <td>Employee Referral</td>\n",
       "      <td>INFRA</td>\n",
       "      <td>Chennai</td>\n",
       "    </tr>\n",
       "    <tr>\n",
       "      <th>2</th>\n",
       "      <td>3</td>\n",
       "      <td>45</td>\n",
       "      <td>42.84</td>\n",
       "      <td>42.84</td>\n",
       "      <td>0.00</td>\n",
       "      <td>4</td>\n",
       "      <td>27</td>\n",
       "      <td>No</td>\n",
       "      <td>E2</td>\n",
       "      <td>No</td>\n",
       "      <td>No</td>\n",
       "      <td>Male</td>\n",
       "      <td>Agency</td>\n",
       "      <td>INFRA</td>\n",
       "      <td>Noida</td>\n",
       "    </tr>\n",
       "    <tr>\n",
       "      <th>3</th>\n",
       "      <td>26</td>\n",
       "      <td>30</td>\n",
       "      <td>42.84</td>\n",
       "      <td>42.84</td>\n",
       "      <td>0.00</td>\n",
       "      <td>4</td>\n",
       "      <td>34</td>\n",
       "      <td>No</td>\n",
       "      <td>E2</td>\n",
       "      <td>No</td>\n",
       "      <td>No</td>\n",
       "      <td>Male</td>\n",
       "      <td>Employee Referral</td>\n",
       "      <td>INFRA</td>\n",
       "      <td>Noida</td>\n",
       "    </tr>\n",
       "    <tr>\n",
       "      <th>4</th>\n",
       "      <td>1</td>\n",
       "      <td>120</td>\n",
       "      <td>42.59</td>\n",
       "      <td>42.59</td>\n",
       "      <td>0.00</td>\n",
       "      <td>6</td>\n",
       "      <td>34</td>\n",
       "      <td>Yes</td>\n",
       "      <td>E2</td>\n",
       "      <td>No</td>\n",
       "      <td>Yes</td>\n",
       "      <td>Male</td>\n",
       "      <td>Employee Referral</td>\n",
       "      <td>INFRA</td>\n",
       "      <td>Noida</td>\n",
       "    </tr>\n",
       "  </tbody>\n",
       "</table>\n",
       "</div>"
      ],
      "text/plain": [
       "   Accept_duration  Notice_period  ...    LOB  Location\n",
       "0               14             30  ...    ERS     Noida\n",
       "1               18             30  ...  INFRA   Chennai\n",
       "2                3             45  ...  INFRA     Noida\n",
       "3               26             30  ...  INFRA     Noida\n",
       "4                1            120  ...  INFRA     Noida\n",
       "\n",
       "[5 rows x 15 columns]"
      ]
     },
     "execution_count": 27,
     "metadata": {
      "tags": []
     },
     "output_type": "execute_result"
    }
   ],
   "source": [
    "#Independented Varibales\n",
    "x = df1.iloc[:,:-1]\n",
    "x.head()"
   ]
  },
  {
   "cell_type": "code",
   "execution_count": 0,
   "metadata": {
    "colab": {
     "base_uri": "https://localhost:8080/",
     "height": 123
    },
    "colab_type": "code",
    "id": "0MVr9tWV129b",
    "outputId": "a1bc3ba3-85d2-45b8-f818-87d8deb1ef4f"
   },
   "outputs": [
    {
     "data": {
      "text/plain": [
       "0    Joined\n",
       "1    Joined\n",
       "2    Joined\n",
       "3    Joined\n",
       "4    Joined\n",
       "Name: Status, dtype: object"
      ]
     },
     "execution_count": 28,
     "metadata": {
      "tags": []
     },
     "output_type": "execute_result"
    }
   ],
   "source": [
    "#Dependented Varibales\n",
    "y = df1.iloc[:,-1]\n",
    "y.head()"
   ]
  },
  {
   "cell_type": "code",
   "execution_count": 0,
   "metadata": {
    "colab": {
     "base_uri": "https://localhost:8080/",
     "height": 34
    },
    "colab_type": "code",
    "id": "Kas8INd42iD_",
    "outputId": "487a2073-ca36-4f92-df61-6f228a4de841"
   },
   "outputs": [
    {
     "data": {
      "text/plain": [
       "array(['Joined', 'Not Joined'], dtype=object)"
      ]
     },
     "execution_count": 29,
     "metadata": {
      "tags": []
     },
     "output_type": "execute_result"
    }
   ],
   "source": [
    "#Check unique attributes\n",
    "df1['Status'].unique()"
   ]
  },
  {
   "cell_type": "code",
   "execution_count": 0,
   "metadata": {
    "colab": {},
    "colab_type": "code",
    "id": "04-Z6XLr2HNc"
   },
   "outputs": [],
   "source": [
    "#Encoding the dependented variable to binary > Joined to '0' Not Joined to '1'\n",
    "y.replace(['Joined','Not Joined'],[0,1],inplace=True)"
   ]
  },
  {
   "cell_type": "code",
   "execution_count": 0,
   "metadata": {
    "colab": {
     "base_uri": "https://localhost:8080/",
     "height": 34
    },
    "colab_type": "code",
    "id": "omWUdWD326iE",
    "outputId": "1884db48-e3d6-4742-9803-fd4341d4bbbe"
   },
   "outputs": [
    {
     "data": {
      "text/plain": [
       "array([0, 1])"
      ]
     },
     "execution_count": 31,
     "metadata": {
      "tags": []
     },
     "output_type": "execute_result"
    }
   ],
   "source": [
    "#Checking is replaced are not\n",
    "y.unique()"
   ]
  },
  {
   "cell_type": "markdown",
   "metadata": {
    "colab_type": "text",
    "id": "VIRodEoJ4m-s"
   },
   "source": [
    "### Creating Dummies"
   ]
  },
  {
   "cell_type": "code",
   "execution_count": 0,
   "metadata": {
    "colab": {},
    "colab_type": "code",
    "id": "wKbKC_bx29t5"
   },
   "outputs": [],
   "source": [
    "xd = pd.get_dummies(x,drop_first=True)"
   ]
  },
  {
   "cell_type": "code",
   "execution_count": 0,
   "metadata": {
    "colab": {
     "base_uri": "https://localhost:8080/",
     "height": 212
    },
    "colab_type": "code",
    "id": "cRTB0zDP6BJ4",
    "outputId": "1f92b98a-f2d2-4456-9a9b-ed873584e2a2"
   },
   "outputs": [
    {
     "data": {
      "text/plain": [
       "Index(['Accept_duration', 'Notice_period', 'Percent_hike_expected',\n",
       "       'Percent_hike_offered', 'Percent_difference', 'Rex', 'Age',\n",
       "       'DOJ_extended_Yes', 'Offered_band_E1', 'Offered_band_E2',\n",
       "       'Offered_band_E3', 'Joining_Bonus_Yes', 'Relocated_Yes', 'Gender_Male',\n",
       "       'Source_Direct', 'Source_Employee Referral', 'LOB_BFSI', 'LOB_CSMP',\n",
       "       'LOB_EAS', 'LOB_ERS', 'LOB_ETS', 'LOB_Healthcare', 'LOB_INFRA',\n",
       "       'LOB_MMS', 'Location_Bangalore', 'Location_Chennai', 'Location_Cochin',\n",
       "       'Location_Gurgaon', 'Location_Hyderabad', 'Location_Kolkata',\n",
       "       'Location_Mumbai', 'Location_Noida', 'Location_Others',\n",
       "       'Location_Pune'],\n",
       "      dtype='object')"
      ]
     },
     "execution_count": 33,
     "metadata": {
      "tags": []
     },
     "output_type": "execute_result"
    }
   ],
   "source": [
    "xd.keys()"
   ]
  },
  {
   "cell_type": "code",
   "execution_count": 0,
   "metadata": {
    "colab": {
     "base_uri": "https://localhost:8080/",
     "height": 336
    },
    "colab_type": "code",
    "id": "womJSap3l5nW",
    "outputId": "a4df7064-33a4-4051-be12-78cb9a08e2f9"
   },
   "outputs": [
    {
     "data": {
      "image/png": "[encoded data removed]",
      "text/plain": [
       "<Figure size 720x360 with 1 Axes>"
      ]
     },
     "metadata": {
      "tags": []
     },
     "output_type": "display_data"
    }
   ],
   "source": [
    "#Count plot for the Target variable\n",
    "fig,ax=plt.subplots(figsize=(10,5))\n",
    "sns.countplot(df['Status'],ax=ax,)\n",
    "plt.show()"
   ]
  },
  {
   "cell_type": "markdown",
   "metadata": {
    "colab_type": "text",
    "id": "PGZQUKZknYuD"
   },
   "source": [
    "From all above observation we can observe the **target variable** which is \"Status\" is inbalance in nature which is we can observe from above plot number of candidates joined are more in number than the Not Joined once. Even though the model accuracy is good enough but the predications made are wrong we knew it. So inorder the make dataset balance in nature we shall use the **Synthetic Minority Oversample TechniquE ( SMOTE )** for it to make it balance."
   ]
  },
  {
   "cell_type": "markdown",
   "metadata": {
    "colab_type": "text",
    "id": "TESzv8Dosnt1"
   },
   "source": [
    "### Balancing the dataset using the SMOTE"
   ]
  },
  {
   "cell_type": "code",
   "execution_count": 0,
   "metadata": {
    "colab": {
     "base_uri": "https://localhost:8080/",
     "height": 72
    },
    "colab_type": "code",
    "id": "DhLNaE4Mo9sw",
    "outputId": "931bfb70-b9b9-4343-a1c9-41885634267b"
   },
   "outputs": [
    {
     "name": "stderr",
     "output_type": "stream",
     "text": [
      "/usr/local/lib/python3.6/dist-packages/sklearn/externals/six.py:31: DeprecationWarning: The module is deprecated in version 0.21 and will be removed in version 0.23 since we've dropped support for Python 2.7. Please rely on the official version of six (https://pypi.org/project/six/).\n",
      "  \"(https://pypi.org/project/six/).\", DeprecationWarning)\n"
     ]
    }
   ],
   "source": [
    "#Importing the imblearn\n",
    "import imblearn\n",
    "from imblearn.over_sampling import SMOTE #Importing SMOTE"
   ]
  },
  {
   "cell_type": "code",
   "execution_count": 0,
   "metadata": {
    "colab": {},
    "colab_type": "code",
    "id": "Ygto8EgD6Cq3"
   },
   "outputs": [],
   "source": [
    "x_resam,y_resam = SMOTE(k_neighbors=5).fit_resample(xd,y) #resample fit"
   ]
  },
  {
   "cell_type": "code",
   "execution_count": 0,
   "metadata": {
    "colab": {
     "base_uri": "https://localhost:8080/",
     "height": 323
    },
    "colab_type": "code",
    "id": "5qDJ5pvm7jGH",
    "outputId": "a4162440-9d40-4553-b6d1-b0882b00cdfb"
   },
   "outputs": [
    {
     "data": {
      "image/png": "[encoded data removed]",
      "text/plain": [
       "<Figure size 720x360 with 1 Axes>"
      ]
     },
     "metadata": {
      "tags": []
     },
     "output_type": "display_data"
    }
   ],
   "source": [
    "#Count plot\n",
    "fig,ax=plt.subplots(figsize=(10,5))\n",
    "sns.countplot(pd.Series(y_resam),ax=ax)\n",
    "plt.show()"
   ]
  },
  {
   "cell_type": "markdown",
   "metadata": {
    "colab_type": "text",
    "id": "XdCi7kAIti_H"
   },
   "source": [
    "From above observation we can see the **target variable which is 'y' (Status)** got balance"
   ]
  },
  {
   "cell_type": "markdown",
   "metadata": {
    "colab_type": "text",
    "id": "VDN42-qxBknl"
   },
   "source": [
    "## Train Test"
   ]
  },
  {
   "cell_type": "code",
   "execution_count": 0,
   "metadata": {
    "colab": {},
    "colab_type": "code",
    "id": "6c6R92ulAWIi"
   },
   "outputs": [],
   "source": [
    "#Random seed\n",
    "np.random.seed(1001)"
   ]
  },
  {
   "cell_type": "code",
   "execution_count": 0,
   "metadata": {
    "colab": {},
    "colab_type": "code",
    "id": "xeUqs6IDBvyc"
   },
   "outputs": [],
   "source": [
    "#Importing train & test split\n",
    "from sklearn.model_selection import train_test_split"
   ]
  },
  {
   "cell_type": "code",
   "execution_count": 0,
   "metadata": {
    "colab": {},
    "colab_type": "code",
    "id": "UcNn0BPoB0Zi"
   },
   "outputs": [],
   "source": [
    "#Spliting to train,test\n",
    "x_train,x_test,y_train,y_test = train_test_split(x_resam,y_resam,test_size=0.2)"
   ]
  },
  {
   "cell_type": "code",
   "execution_count": 0,
   "metadata": {
    "colab": {
     "base_uri": "https://localhost:8080/",
     "height": 34
    },
    "colab_type": "code",
    "id": "SE6ZGqKZCE6E",
    "outputId": "de63ca6b-e3e3-4f6e-f1bf-93a31c47be7a"
   },
   "outputs": [
    {
     "data": {
      "text/plain": [
       "((11700, 34), (2926, 34), (11700,), (2926,))"
      ]
     },
     "execution_count": 41,
     "metadata": {
      "tags": []
     },
     "output_type": "execute_result"
    }
   ],
   "source": [
    "#Checking shape of train,test\n",
    "x_train.shape,x_test.shape,y_train.shape,y_test.shape"
   ]
  },
  {
   "cell_type": "code",
   "execution_count": 0,
   "metadata": {
    "colab": {},
    "colab_type": "code",
    "id": "UuwL4JzbCIpp"
   },
   "outputs": [],
   "source": [
    "#Importing Logistic Regression\n",
    "from sklearn.linear_model import LogisticRegression"
   ]
  },
  {
   "cell_type": "code",
   "execution_count": 0,
   "metadata": {
    "colab": {},
    "colab_type": "code",
    "id": "aC5kek6jCyYF"
   },
   "outputs": [],
   "source": [
    "#model_1 as Logistic class\n",
    "model_1 = LogisticRegression()"
   ]
  },
  {
   "cell_type": "code",
   "execution_count": 0,
   "metadata": {
    "colab": {
     "base_uri": "https://localhost:8080/",
     "height": 161
    },
    "colab_type": "code",
    "id": "uX5xX6OeC20N",
    "outputId": "7707a4a3-a39d-4b2d-8350-a00467ce8436"
   },
   "outputs": [
    {
     "name": "stderr",
     "output_type": "stream",
     "text": [
      "/usr/local/lib/python3.6/dist-packages/sklearn/linear_model/logistic.py:432: FutureWarning: Default solver will be changed to 'lbfgs' in 0.22. Specify a solver to silence this warning.\n",
      "  FutureWarning)\n"
     ]
    },
    {
     "data": {
      "text/plain": [
       "LogisticRegression(C=1.0, class_weight=None, dual=False, fit_intercept=True,\n",
       "                   intercept_scaling=1, l1_ratio=None, max_iter=100,\n",
       "                   multi_class='warn', n_jobs=None, penalty='l2',\n",
       "                   random_state=None, solver='warn', tol=0.0001, verbose=0,\n",
       "                   warm_start=False)"
      ]
     },
     "execution_count": 44,
     "metadata": {
      "tags": []
     },
     "output_type": "execute_result"
    }
   ],
   "source": [
    "#Fit model\n",
    "model_1.fit(x_train,y_train)"
   ]
  },
  {
   "cell_type": "code",
   "execution_count": 0,
   "metadata": {
    "colab": {},
    "colab_type": "code",
    "id": "FrHReMdh7nEF"
   },
   "outputs": [],
   "source": [
    "#A custom module for classification report, ROC_AUC curve\n",
    "import innomatics"
   ]
  },
  {
   "cell_type": "code",
   "execution_count": 0,
   "metadata": {
    "colab": {},
    "colab_type": "code",
    "id": "sL4UwZys8FSt"
   },
   "outputs": [],
   "source": [
    "#Predicating the y_train with model_1\n",
    "y_train_pred = model_1.predict(x_train)"
   ]
  },
  {
   "cell_type": "code",
   "execution_count": 0,
   "metadata": {
    "colab": {},
    "colab_type": "code",
    "id": "_NiooSqJ8dbI"
   },
   "outputs": [],
   "source": [
    "#considering only postive prob\n",
    "y_train_pred_prob = model_1.predict_proba(x_train)[:,1] "
   ]
  },
  {
   "cell_type": "code",
   "execution_count": 0,
   "metadata": {
    "colab": {
     "base_uri": "https://localhost:8080/",
     "height": 1000
    },
    "colab_type": "code",
    "id": "zXD4k5Y88nji",
    "outputId": "22c6307c-86c7-41b0-b8f6-4557a1f9789b"
   },
   "outputs": [
    {
     "data": {
      "image/png": "[encoded data removed]",
      "text/plain": [
       "<Figure size 720x432 with 1 Axes>"
      ]
     },
     "metadata": {
      "tags": []
     },
     "output_type": "display_data"
    },
    {
     "name": "stdout",
     "output_type": "stream",
     "text": [
      "******************************Classifcation Report******************************\n",
      "\n",
      "\n",
      "              precision    recall  f1-score   support\n",
      "\n",
      "           0       0.72      0.61      0.66      5850\n",
      "           1       0.66      0.76      0.71      5850\n",
      "\n",
      "    accuracy                           0.69     11700\n",
      "   macro avg       0.69      0.69      0.68     11700\n",
      "weighted avg       0.69      0.69      0.68     11700\n",
      "\n",
      "\n",
      "************************************Kappa Score************************************\n",
      "\n",
      "\n",
      "Kappa Score = 0.37076923076923074\n",
      "\n",
      "******************************Area Under Curve Score******************************\n",
      "\n",
      "\n",
      "AUC Score = 0.6853846153846154\n",
      "Number of probabilities to build ROC = 4611\n"
     ]
    },
    {
     "data": {
      "image/png": "[encoded data removed]",
      "text/plain": [
       "<Figure size 576x360 with 1 Axes>"
      ]
     },
     "metadata": {
      "tags": []
     },
     "output_type": "display_data"
    }
   ],
   "source": [
    "innomatics.classification_metric(y_train,y_train_pred,y_train_pred_prob,['Joined','Not Joined'],n=950,verbose=True)"
   ]
  },
  {
   "cell_type": "markdown",
   "metadata": {
    "colab_type": "text",
    "id": "MawrpVC6FSJk"
   },
   "source": [
    "From the ROC we can see the we can see the **0.50** begin best fit threshold value, but let us find it from the MLE"
   ]
  },
  {
   "cell_type": "code",
   "execution_count": 0,
   "metadata": {
    "colab": {},
    "colab_type": "code",
    "id": "X4mnf0Zk9GGY"
   },
   "outputs": [],
   "source": [
    "from sklearn.metrics import confusion_matrix, classification_report"
   ]
  },
  {
   "cell_type": "code",
   "execution_count": 0,
   "metadata": {
    "colab": {},
    "colab_type": "code",
    "id": "K6XEsMb8B91z"
   },
   "outputs": [],
   "source": [
    "tn, fp, fn, tp = confusion_matrix(y_train,y_train_pred).ravel()"
   ]
  },
  {
   "cell_type": "code",
   "execution_count": 0,
   "metadata": {
    "colab": {
     "base_uri": "https://localhost:8080/",
     "height": 34
    },
    "colab_type": "code",
    "id": "hURAshS1CZKb",
    "outputId": "280def9a-b855-486c-933e-a27f2547232a"
   },
   "outputs": [
    {
     "data": {
      "text/plain": [
       "(3567, 2283, 1398, 4452)"
      ]
     },
     "execution_count": 51,
     "metadata": {
      "tags": []
     },
     "output_type": "execute_result"
    }
   ],
   "source": [
    "tn, fp, fn, tp"
   ]
  },
  {
   "cell_type": "code",
   "execution_count": 0,
   "metadata": {
    "colab": {},
    "colab_type": "code",
    "id": "AOHEmamJu0Wu"
   },
   "outputs": [],
   "source": [
    "y_test_pred = model_1.predict(x_test)"
   ]
  },
  {
   "cell_type": "code",
   "execution_count": 0,
   "metadata": {
    "colab": {},
    "colab_type": "code",
    "id": "iCf8LYGBu0XF"
   },
   "outputs": [],
   "source": [
    "y_test_pred_prob = model_1.predict_proba(x_test)[:,1] #considering only postive prob"
   ]
  },
  {
   "cell_type": "code",
   "execution_count": 0,
   "metadata": {
    "colab": {
     "base_uri": "https://localhost:8080/",
     "height": 1000
    },
    "colab_type": "code",
    "id": "qy6K4-eYu0XK",
    "outputId": "16d54e46-6ca4-4aa4-97c2-69da3d6da290"
   },
   "outputs": [
    {
     "data": {
      "image/png": "[encoded data removed]",
      "text/plain": [
       "<Figure size 720x432 with 1 Axes>"
      ]
     },
     "metadata": {
      "tags": []
     },
     "output_type": "display_data"
    },
    {
     "name": "stdout",
     "output_type": "stream",
     "text": [
      "******************************Classifcation Report******************************\n",
      "\n",
      "\n",
      "              precision    recall  f1-score   support\n",
      "\n",
      "           0       0.71      0.61      0.66      1463\n",
      "           1       0.66      0.76      0.70      1463\n",
      "\n",
      "    accuracy                           0.68      2926\n",
      "   macro avg       0.69      0.68      0.68      2926\n",
      "weighted avg       0.69      0.68      0.68      2926\n",
      "\n",
      "\n",
      "************************************Kappa Score************************************\n",
      "\n",
      "\n",
      "Kappa Score = 0.36431989063568015\n",
      "\n",
      "******************************Area Under Curve Score******************************\n",
      "\n",
      "\n",
      "AUC Score = 0.68215994531784\n",
      "Number of probabilities to build ROC = 1187\n"
     ]
    },
    {
     "data": {
      "image/png": "[encoded data removed]",
      "text/plain": [
       "<Figure size 576x360 with 1 Axes>"
      ]
     },
     "metadata": {
      "tags": []
     },
     "output_type": "display_data"
    }
   ],
   "source": [
    "innomatics.classification_metric(y_test,y_test_pred,y_test_pred_prob,['Joined','Not Joined'],n=950,verbose=True)"
   ]
  },
  {
   "cell_type": "markdown",
   "metadata": {
    "colab_type": "text",
    "id": "ssqFFgr9v5PT"
   },
   "source": [
    "### Lets us get some threshold value were the loss is minimum using the MLE (**Maximun Likehood Estimation**)"
   ]
  },
  {
   "cell_type": "code",
   "execution_count": 0,
   "metadata": {
    "colab": {},
    "colab_type": "code",
    "id": "AblCDSLPCoYL"
   },
   "outputs": [],
   "source": [
    "#Define threshold class to pre\n",
    "pre = innomatics.threshold()"
   ]
  },
  {
   "cell_type": "code",
   "execution_count": 0,
   "metadata": {
    "colab": {},
    "colab_type": "code",
    "id": "AtTfGWKK0XKO"
   },
   "outputs": [],
   "source": [
    "#Import logloss\n",
    "from sklearn.metrics import log_loss"
   ]
  },
  {
   "cell_type": "code",
   "execution_count": 0,
   "metadata": {
    "colab": {},
    "colab_type": "code",
    "id": "nrp1tG3nw-Td"
   },
   "outputs": [],
   "source": [
    "probailites = np.linspace(0,1,num=100) #Genrating 100 values in between 0-1\n",
    "mle = []\n",
    "for p in probailites:\n",
    "  pre.th = p\n",
    "  yy = pd.Series(y_train_pred_prob)\n",
    "  y_pred = yy.apply(pre.predict_threshold)\n",
    "  loss = log_loss(y_train,y_pred)\n",
    "  mle.append(loss)"
   ]
  },
  {
   "cell_type": "code",
   "execution_count": 0,
   "metadata": {
    "colab": {
     "base_uri": "https://localhost:8080/",
     "height": 283
    },
    "colab_type": "code",
    "id": "dpIlintq0aEs",
    "outputId": "d28868e2-714c-42e4-9ec6-cc3eda79f121"
   },
   "outputs": [
    {
     "data": {
      "image/png": "[encoded data removed]",
      "text/plain": [
       "<Figure size 720x288 with 1 Axes>"
      ]
     },
     "metadata": {
      "tags": []
     },
     "output_type": "display_data"
    }
   ],
   "source": [
    "#Plot for minimum Logloss\n",
    "plt.figure(figsize=(10,4))\n",
    "sns.scatterplot(probailites,mle,edgecolor='k')\n",
    "plt.xlabel('Probabilites')\n",
    "plt.ylabel('- (Log Likelihood)')\n",
    "plt.show()"
   ]
  },
  {
   "cell_type": "markdown",
   "metadata": {
    "colab_type": "text",
    "id": "3_bMGs-j1fTG"
   },
   "source": [
    "We can observe the Log likehood is minimum in between the **0.4 - 0.57 (approx)** from the above plot"
   ]
  },
  {
   "cell_type": "code",
   "execution_count": 0,
   "metadata": {
    "colab": {
     "base_uri": "https://localhost:8080/",
     "height": 34
    },
    "colab_type": "code",
    "id": "yTu7TgSX1Hy6",
    "outputId": "bf552e58-b3d5-4c33-fa38-215ade0d4c0c"
   },
   "outputs": [
    {
     "name": "stdout",
     "output_type": "stream",
     "text": [
      "Threshold Probability Value =  0.505051\n"
     ]
    }
   ],
   "source": [
    "#Getting minimum Logloss\n",
    "min_ind = np.array(mle).argmin()\n",
    "val = probailites[min_ind]\n",
    "print('Threshold Probability Value = ',val.round(6))\n"
   ]
  },
  {
   "cell_type": "markdown",
   "metadata": {
    "colab_type": "text",
    "id": "Sw4phV5O3AF-"
   },
   "source": [
    "### Apply Threshold Probability on the Train & Test data"
   ]
  },
  {
   "cell_type": "code",
   "execution_count": 0,
   "metadata": {
    "colab": {},
    "colab_type": "code",
    "id": "V47vaeyu2QRS"
   },
   "outputs": [],
   "source": [
    "pre.th = val\n",
    "yy_test = pd.Series(y_test_pred_prob)\n",
    "yy_train = pd.Series(y_train_pred_prob)\n",
    "y_pred_test = yy_test.apply(pre.predict_threshold)\n",
    "y_pred_train = yy_train.apply(pre.predict_threshold)"
   ]
  },
  {
   "cell_type": "code",
   "execution_count": 0,
   "metadata": {
    "colab": {
     "base_uri": "https://localhost:8080/",
     "height": 176
    },
    "colab_type": "code",
    "id": "Xv2OAvP768FG",
    "outputId": "e9e1f41d-4f5e-49b4-9b5a-bb8f7d36ec54"
   },
   "outputs": [
    {
     "name": "stdout",
     "output_type": "stream",
     "text": [
      "              precision    recall  f1-score   support\n",
      "\n",
      "           0       0.71      0.61      0.66      1463\n",
      "           1       0.66      0.75      0.70      1463\n",
      "\n",
      "    accuracy                           0.68      2926\n",
      "   macro avg       0.68      0.68      0.68      2926\n",
      "weighted avg       0.68      0.68      0.68      2926\n",
      "\n"
     ]
    }
   ],
   "source": [
    "cr = classification_report(y_test,y_pred_test)\n",
    "print(cr)"
   ]
  },
  {
   "cell_type": "code",
   "execution_count": 0,
   "metadata": {
    "colab": {
     "base_uri": "https://localhost:8080/",
     "height": 176
    },
    "colab_type": "code",
    "id": "-NyucDTo6HQr",
    "outputId": "d5f64aa5-3ad4-4e48-bb5a-4d2c46693aed"
   },
   "outputs": [
    {
     "name": "stdout",
     "output_type": "stream",
     "text": [
      "              precision    recall  f1-score   support\n",
      "\n",
      "           0       0.72      0.62      0.66      5850\n",
      "           1       0.66      0.75      0.71      5850\n",
      "\n",
      "    accuracy                           0.69     11700\n",
      "   macro avg       0.69      0.69      0.69     11700\n",
      "weighted avg       0.69      0.69      0.69     11700\n",
      "\n"
     ]
    }
   ],
   "source": [
    "cr = classification_report(y_train,y_pred_train)\n",
    "print(cr)"
   ]
  },
  {
   "cell_type": "markdown",
   "metadata": {
    "colab_type": "text",
    "id": "kfXhAwZdjD9M"
   },
   "source": [
    "## Feature Selection"
   ]
  },
  {
   "cell_type": "markdown",
   "metadata": {
    "colab_type": "text",
    "id": "ZUrAK0GraTXB"
   },
   "source": [
    "### Before going to feature selection we can see some multicolinearity (*from co-relation plot*) between the varibales.\n",
    "## Using VIF (Variance Inflation Factor) for checking the colinearity."
   ]
  },
  {
   "cell_type": "code",
   "execution_count": 0,
   "metadata": {
    "colab": {},
    "colab_type": "code",
    "id": "OhdOC7SUaQOM"
   },
   "outputs": [],
   "source": [
    "#Import Standard Scaler\n",
    "from sklearn.preprocessing import StandardScaler"
   ]
  },
  {
   "cell_type": "code",
   "execution_count": 0,
   "metadata": {
    "colab": {},
    "colab_type": "code",
    "id": "OuCSWnx1bQFn"
   },
   "outputs": [],
   "source": [
    "#Assign class to sc\n",
    "sc = StandardScaler()"
   ]
  },
  {
   "cell_type": "code",
   "execution_count": 0,
   "metadata": {
    "colab": {},
    "colab_type": "code",
    "id": "GSYgehkZbWbU"
   },
   "outputs": [],
   "source": [
    "#Standardzation x values \n",
    "x_stand = sc.fit_transform(xd)"
   ]
  },
  {
   "cell_type": "code",
   "execution_count": 0,
   "metadata": {
    "colab": {},
    "colab_type": "code",
    "id": "lrFI6TDZbhgt"
   },
   "outputs": [],
   "source": [
    "#Import VIF\n",
    "from statsmodels.stats.outliers_influence import variance_inflation_factor"
   ]
  },
  {
   "cell_type": "code",
   "execution_count": 0,
   "metadata": {
    "colab": {},
    "colab_type": "code",
    "id": "0UyDja_0bmsI"
   },
   "outputs": [],
   "source": [
    "vif = pd.DataFrame()\n",
    "vif[\"Score\"] = [variance_inflation_factor(x_stand,i) for i in range(len(xd.keys()))]"
   ]
  },
  {
   "cell_type": "code",
   "execution_count": 0,
   "metadata": {
    "colab": {
     "base_uri": "https://localhost:8080/",
     "height": 287
    },
    "colab_type": "code",
    "id": "Op6OyISbbshi",
    "outputId": "d0c93317-e461-46bd-fac4-4206acd035fd"
   },
   "outputs": [
    {
     "data": {
      "text/html": [
       "<div>\n",
       "<style scoped>\n",
       "    .dataframe tbody tr th:only-of-type {\n",
       "        vertical-align: middle;\n",
       "    }\n",
       "\n",
       "    .dataframe tbody tr th {\n",
       "        vertical-align: top;\n",
       "    }\n",
       "\n",
       "    .dataframe thead th {\n",
       "        text-align: right;\n",
       "    }\n",
       "</style>\n",
       "<table border=\"1\" class=\"dataframe\">\n",
       "  <thead>\n",
       "    <tr style=\"text-align: right;\">\n",
       "      <th></th>\n",
       "      <th>Score</th>\n",
       "    </tr>\n",
       "  </thead>\n",
       "  <tbody>\n",
       "    <tr>\n",
       "      <th>Accept_duration</th>\n",
       "      <td>1.332962</td>\n",
       "    </tr>\n",
       "    <tr>\n",
       "      <th>Notice_period</th>\n",
       "      <td>1.241784</td>\n",
       "    </tr>\n",
       "    <tr>\n",
       "      <th>Percent_hike_expected</th>\n",
       "      <td>16.694430</td>\n",
       "    </tr>\n",
       "    <tr>\n",
       "      <th>Percent_hike_offered</th>\n",
       "      <td>25.107837</td>\n",
       "    </tr>\n",
       "    <tr>\n",
       "      <th>Percent_difference</th>\n",
       "      <td>14.243712</td>\n",
       "    </tr>\n",
       "    <tr>\n",
       "      <th>Rex</th>\n",
       "      <td>3.072918</td>\n",
       "    </tr>\n",
       "    <tr>\n",
       "      <th>Age</th>\n",
       "      <td>1.565220</td>\n",
       "    </tr>\n",
       "    <tr>\n",
       "      <th>DOJ_extended_Yes</th>\n",
       "      <td>1.221115</td>\n",
       "    </tr>\n",
       "  </tbody>\n",
       "</table>\n",
       "</div>"
      ],
      "text/plain": [
       "                           Score\n",
       "Accept_duration         1.332962\n",
       "Notice_period           1.241784\n",
       "Percent_hike_expected  16.694430\n",
       "Percent_hike_offered   25.107837\n",
       "Percent_difference     14.243712\n",
       "Rex                     3.072918\n",
       "Age                     1.565220\n",
       "DOJ_extended_Yes        1.221115"
      ]
     },
     "execution_count": 81,
     "metadata": {
      "tags": []
     },
     "output_type": "execute_result"
    }
   ],
   "source": [
    "#View VIF\n",
    "vif.index = xd.columns\n",
    "vif.head(8)"
   ]
  },
  {
   "cell_type": "markdown",
   "metadata": {
    "colab_type": "text",
    "id": "yNzr9zRykmtd"
   },
   "source": [
    "**Precent_hike_expected**, **Percent_hike_offered**, **Percent_difference** have some **VIF** greater than 10 which are highly corelated, and sometimes the categorical values have higher VIF (inf) we can ignore them."
   ]
  },
  {
   "cell_type": "markdown",
   "metadata": {
    "colab_type": "text",
    "id": "Atg1IGokWZEA"
   },
   "source": [
    "### using **recursive feature elimination and cross-validated** for optimal feature selection"
   ]
  },
  {
   "cell_type": "code",
   "execution_count": 0,
   "metadata": {
    "colab": {},
    "colab_type": "code",
    "id": "dGFXWwPcTOHR"
   },
   "outputs": [],
   "source": [
    "#Importing REFCV\n",
    "from sklearn.feature_selection import RFECV"
   ]
  },
  {
   "cell_type": "code",
   "execution_count": 0,
   "metadata": {
    "colab": {
     "base_uri": "https://localhost:8080/",
     "height": 194
    },
    "colab_type": "code",
    "id": "FKINgXyoS4KM",
    "outputId": "ff59d97f-a66b-46f9-fd91-c1dbdc1f6673"
   },
   "outputs": [
    {
     "data": {
      "text/plain": [
       "RFECV(cv=10,\n",
       "      estimator=LogisticRegression(C=1.0, class_weight=None, dual=False,\n",
       "                                   fit_intercept=True, intercept_scaling=1,\n",
       "                                   l1_ratio=None, max_iter=100,\n",
       "                                   multi_class='warn', n_jobs=None,\n",
       "                                   penalty='l2', random_state=None,\n",
       "                                   solver='warn', tol=0.0001, verbose=0,\n",
       "                                   warm_start=False),\n",
       "      min_features_to_select=1, n_jobs=None, scoring='average_precision',\n",
       "      step=1, verbose=0)"
      ]
     },
     "execution_count": 97,
     "metadata": {
      "tags": []
     },
     "output_type": "execute_result"
    }
   ],
   "source": [
    "#Using estimator as LogisticsRegression with Step1 and cross-validation of 10 scoring metric as average_precision\n",
    "rfecv = RFECV(estimator=LogisticRegression(), step=1, cv=10, scoring='average_precision')\n",
    "rfecv.fit(xd, y)"
   ]
  },
  {
   "cell_type": "code",
   "execution_count": 0,
   "metadata": {
    "colab": {
     "base_uri": "https://localhost:8080/",
     "height": 350
    },
    "colab_type": "code",
    "id": "puFmC7PWXKQ3",
    "outputId": "b78aefa5-9055-47ff-e77a-18232981bec2"
   },
   "outputs": [
    {
     "data": {
      "image/png": "[encoded data removed]",
      "text/plain": [
       "<Figure size 720x360 with 1 Axes>"
      ]
     },
     "metadata": {
      "tags": []
     },
     "output_type": "display_data"
    }
   ],
   "source": [
    "plt.figure(figsize=(10,5))\n",
    "plt.title('Logistic Regression CV score vs No of Features')\n",
    "plt.xlabel(\"Number of features selected\")\n",
    "plt.ylabel(\"Cross validation score\")\n",
    "plt.plot(range(1, len(rfecv.grid_scores_) + 1), rfecv.grid_scores_)\n",
    "plt.show()"
   ]
  },
  {
   "cell_type": "code",
   "execution_count": 0,
   "metadata": {
    "colab": {
     "base_uri": "https://localhost:8080/",
     "height": 90
    },
    "colab_type": "code",
    "id": "aLBEUCvWXWGK",
    "outputId": "98f73f8c-042a-4f05-f182-e7d507eef151"
   },
   "outputs": [
    {
     "name": "stdout",
     "output_type": "stream",
     "text": [
      "No of Features = 34\n",
      "No of Feature Selected = 33\t\n",
      " ['Notice_period', 'Percent_hike_expected', 'Percent_hike_offered', 'Percent_difference', 'Rex', 'Age', 'DOJ_extended_Yes', 'Offered_band_E1', 'Offered_band_E2', 'Offered_band_E3', 'Joining_Bonus_Yes', 'Relocated_Yes', 'Gender_Male', 'Source_Direct', 'Source_Employee Referral', 'LOB_BFSI', 'LOB_CSMP', 'LOB_EAS', 'LOB_ERS', 'LOB_ETS', 'LOB_Healthcare', 'LOB_INFRA', 'LOB_MMS', 'Location_Bangalore', 'Location_Chennai', 'Location_Cochin', 'Location_Gurgaon', 'Location_Hyderabad', 'Location_Kolkata', 'Location_Mumbai', 'Location_Noida', 'Location_Others', 'Location_Pune'] \n"
     ]
    }
   ],
   "source": [
    "#Getting the selected features \n",
    "feature_names = xd.columns\n",
    "selected_features = feature_names[rfecv.support_].tolist()\n",
    "print(\"No of Features = {}\\nNo of Feature Selected = {}\\n {} \".format(len(feature_names),len(selected_features),selected_features))"
   ]
  },
  {
   "cell_type": "code",
   "execution_count": 0,
   "metadata": {
    "colab": {},
    "colab_type": "code",
    "id": "e3h6tTzaYU1e"
   },
   "outputs": [],
   "source": [
    "#New dataframe using the selected features\n",
    "xf = xd[['Notice_period', 'Percent_hike_expected', 'Percent_hike_offered', 'Percent_difference', 'Rex', 'Age', 'DOJ_extended_Yes', \n",
    "         'Offered_band_E1', 'Offered_band_E2', 'Offered_band_E3', 'Joining_Bonus_Yes', 'Relocated_Yes', \n",
    "         'Gender_Male', 'Source_Direct', 'Source_Employee Referral', 'LOB_BFSI', 'LOB_CSMP', 'LOB_EAS', 'LOB_ERS', 'LOB_ETS', \n",
    "         'LOB_Healthcare', 'LOB_INFRA', 'LOB_MMS', 'Location_Bangalore', 'Location_Chennai', 'Location_Cochin', 'Location_Gurgaon', \n",
    "         'Location_Hyderabad', 'Location_Kolkata', 'Location_Mumbai', 'Location_Noida', 'Location_Others', 'Location_Pune']]"
   ]
  },
  {
   "cell_type": "code",
   "execution_count": 0,
   "metadata": {
    "colab": {
     "base_uri": "https://localhost:8080/",
     "height": 174
    },
    "colab_type": "code",
    "id": "M_-j6Czzag8g",
    "outputId": "9ab4546e-51f1-40f7-f5a8-298d7bcc0a27"
   },
   "outputs": [
    {
     "data": {
      "text/html": [
       "<div>\n",
       "<style scoped>\n",
       "    .dataframe tbody tr th:only-of-type {\n",
       "        vertical-align: middle;\n",
       "    }\n",
       "\n",
       "    .dataframe tbody tr th {\n",
       "        vertical-align: top;\n",
       "    }\n",
       "\n",
       "    .dataframe thead th {\n",
       "        text-align: right;\n",
       "    }\n",
       "</style>\n",
       "<table border=\"1\" class=\"dataframe\">\n",
       "  <thead>\n",
       "    <tr style=\"text-align: right;\">\n",
       "      <th></th>\n",
       "      <th>Notice_period</th>\n",
       "      <th>Percent_hike_expected</th>\n",
       "      <th>Percent_hike_offered</th>\n",
       "      <th>Percent_difference</th>\n",
       "      <th>Rex</th>\n",
       "      <th>Age</th>\n",
       "      <th>DOJ_extended_Yes</th>\n",
       "      <th>Offered_band_E1</th>\n",
       "      <th>Offered_band_E2</th>\n",
       "      <th>Offered_band_E3</th>\n",
       "      <th>Joining_Bonus_Yes</th>\n",
       "      <th>Relocated_Yes</th>\n",
       "      <th>Gender_Male</th>\n",
       "      <th>Source_Direct</th>\n",
       "      <th>Source_Employee Referral</th>\n",
       "      <th>LOB_BFSI</th>\n",
       "      <th>LOB_CSMP</th>\n",
       "      <th>LOB_EAS</th>\n",
       "      <th>LOB_ERS</th>\n",
       "      <th>LOB_ETS</th>\n",
       "      <th>LOB_Healthcare</th>\n",
       "      <th>LOB_INFRA</th>\n",
       "      <th>LOB_MMS</th>\n",
       "      <th>Location_Bangalore</th>\n",
       "      <th>Location_Chennai</th>\n",
       "      <th>Location_Cochin</th>\n",
       "      <th>Location_Gurgaon</th>\n",
       "      <th>Location_Hyderabad</th>\n",
       "      <th>Location_Kolkata</th>\n",
       "      <th>Location_Mumbai</th>\n",
       "      <th>Location_Noida</th>\n",
       "      <th>Location_Others</th>\n",
       "      <th>Location_Pune</th>\n",
       "    </tr>\n",
       "  </thead>\n",
       "  <tbody>\n",
       "    <tr>\n",
       "      <th>0</th>\n",
       "      <td>30</td>\n",
       "      <td>-20.79</td>\n",
       "      <td>13.16</td>\n",
       "      <td>42.86</td>\n",
       "      <td>7</td>\n",
       "      <td>34</td>\n",
       "      <td>1</td>\n",
       "      <td>0</td>\n",
       "      <td>1</td>\n",
       "      <td>0</td>\n",
       "      <td>0</td>\n",
       "      <td>0</td>\n",
       "      <td>0</td>\n",
       "      <td>0</td>\n",
       "      <td>0</td>\n",
       "      <td>0</td>\n",
       "      <td>0</td>\n",
       "      <td>0</td>\n",
       "      <td>1</td>\n",
       "      <td>0</td>\n",
       "      <td>0</td>\n",
       "      <td>0</td>\n",
       "      <td>0</td>\n",
       "      <td>0</td>\n",
       "      <td>0</td>\n",
       "      <td>0</td>\n",
       "      <td>0</td>\n",
       "      <td>0</td>\n",
       "      <td>0</td>\n",
       "      <td>0</td>\n",
       "      <td>1</td>\n",
       "      <td>0</td>\n",
       "      <td>0</td>\n",
       "    </tr>\n",
       "    <tr>\n",
       "      <th>1</th>\n",
       "      <td>30</td>\n",
       "      <td>50.00</td>\n",
       "      <td>320.00</td>\n",
       "      <td>180.00</td>\n",
       "      <td>8</td>\n",
       "      <td>34</td>\n",
       "      <td>0</td>\n",
       "      <td>0</td>\n",
       "      <td>1</td>\n",
       "      <td>0</td>\n",
       "      <td>0</td>\n",
       "      <td>0</td>\n",
       "      <td>1</td>\n",
       "      <td>0</td>\n",
       "      <td>1</td>\n",
       "      <td>0</td>\n",
       "      <td>0</td>\n",
       "      <td>0</td>\n",
       "      <td>0</td>\n",
       "      <td>0</td>\n",
       "      <td>0</td>\n",
       "      <td>1</td>\n",
       "      <td>0</td>\n",
       "      <td>0</td>\n",
       "      <td>1</td>\n",
       "      <td>0</td>\n",
       "      <td>0</td>\n",
       "      <td>0</td>\n",
       "      <td>0</td>\n",
       "      <td>0</td>\n",
       "      <td>0</td>\n",
       "      <td>0</td>\n",
       "      <td>0</td>\n",
       "    </tr>\n",
       "    <tr>\n",
       "      <th>2</th>\n",
       "      <td>45</td>\n",
       "      <td>42.84</td>\n",
       "      <td>42.84</td>\n",
       "      <td>0.00</td>\n",
       "      <td>4</td>\n",
       "      <td>27</td>\n",
       "      <td>0</td>\n",
       "      <td>0</td>\n",
       "      <td>1</td>\n",
       "      <td>0</td>\n",
       "      <td>0</td>\n",
       "      <td>0</td>\n",
       "      <td>1</td>\n",
       "      <td>0</td>\n",
       "      <td>0</td>\n",
       "      <td>0</td>\n",
       "      <td>0</td>\n",
       "      <td>0</td>\n",
       "      <td>0</td>\n",
       "      <td>0</td>\n",
       "      <td>0</td>\n",
       "      <td>1</td>\n",
       "      <td>0</td>\n",
       "      <td>0</td>\n",
       "      <td>0</td>\n",
       "      <td>0</td>\n",
       "      <td>0</td>\n",
       "      <td>0</td>\n",
       "      <td>0</td>\n",
       "      <td>0</td>\n",
       "      <td>1</td>\n",
       "      <td>0</td>\n",
       "      <td>0</td>\n",
       "    </tr>\n",
       "  </tbody>\n",
       "</table>\n",
       "</div>"
      ],
      "text/plain": [
       "   Notice_period  Percent_hike_expected  ...  Location_Others  Location_Pune\n",
       "0             30                 -20.79  ...                0              0\n",
       "1             30                  50.00  ...                0              0\n",
       "2             45                  42.84  ...                0              0\n",
       "\n",
       "[3 rows x 33 columns]"
      ]
     },
     "execution_count": 103,
     "metadata": {
      "tags": []
     },
     "output_type": "execute_result"
    }
   ],
   "source": [
    "#View\n",
    "xf.head(3)"
   ]
  },
  {
   "cell_type": "code",
   "execution_count": 0,
   "metadata": {
    "colab": {},
    "colab_type": "code",
    "id": "Jn02fMJTalAZ"
   },
   "outputs": [],
   "source": [
    "#Resampling with the selected features\n",
    "xf_re,y_re = SMOTE(k_neighbors=5).fit_resample(xf,y)"
   ]
  },
  {
   "cell_type": "code",
   "execution_count": 0,
   "metadata": {
    "colab": {},
    "colab_type": "code",
    "id": "uzBm9JnVbnR3"
   },
   "outputs": [],
   "source": [
    "#Spliting to train,test\n",
    "xf_train,xf_test,yf_train,yf_test = train_test_split(xf_re,y_re,test_size=0.2)"
   ]
  },
  {
   "cell_type": "code",
   "execution_count": 0,
   "metadata": {
    "colab": {
     "base_uri": "https://localhost:8080/",
     "height": 34
    },
    "colab_type": "code",
    "id": "3d65fudobnSI",
    "outputId": "2f2a1d45-06bd-410a-886b-49741a749818"
   },
   "outputs": [
    {
     "data": {
      "text/plain": [
       "((11700, 33), (2926, 33), (11700,), (2926,))"
      ]
     },
     "execution_count": 116,
     "metadata": {
      "tags": []
     },
     "output_type": "execute_result"
    }
   ],
   "source": [
    "#Checking shape of train,test\n",
    "xf_train.shape,xf_test.shape,yf_train.shape,yf_test.shape"
   ]
  },
  {
   "cell_type": "code",
   "execution_count": 0,
   "metadata": {
    "colab": {},
    "colab_type": "code",
    "id": "YiocEhuycK2M"
   },
   "outputs": [],
   "source": [
    "#model_2 as Logistic class\n",
    "model_2 = LogisticRegression()"
   ]
  },
  {
   "cell_type": "code",
   "execution_count": 0,
   "metadata": {
    "colab": {
     "base_uri": "https://localhost:8080/",
     "height": 105
    },
    "colab_type": "code",
    "id": "Fw-h5XMScK2j",
    "outputId": "76185eff-0bc9-4e6a-bacd-6ba916dd5db4"
   },
   "outputs": [
    {
     "data": {
      "text/plain": [
       "LogisticRegression(C=1.0, class_weight=None, dual=False, fit_intercept=True,\n",
       "                   intercept_scaling=1, l1_ratio=None, max_iter=100,\n",
       "                   multi_class='warn', n_jobs=None, penalty='l2',\n",
       "                   random_state=None, solver='warn', tol=0.0001, verbose=0,\n",
       "                   warm_start=False)"
      ]
     },
     "execution_count": 118,
     "metadata": {
      "tags": []
     },
     "output_type": "execute_result"
    }
   ],
   "source": [
    "#Fit model\n",
    "model_2.fit(xf_train,yf_train)"
   ]
  },
  {
   "cell_type": "code",
   "execution_count": 0,
   "metadata": {
    "colab": {},
    "colab_type": "code",
    "id": "QAdFGc-tcK2p"
   },
   "outputs": [],
   "source": [
    "#Predicating the y_train with new build model\n",
    "yf_train_pred = model_2.predict(xf_train)"
   ]
  },
  {
   "cell_type": "code",
   "execution_count": 0,
   "metadata": {
    "colab": {},
    "colab_type": "code",
    "id": "ZUq971KfcK2t"
   },
   "outputs": [],
   "source": [
    "#considering only postive prob\n",
    "yf_train_pred_prob = model_2.predict_proba(xf_train)[:,1] "
   ]
  },
  {
   "cell_type": "code",
   "execution_count": 0,
   "metadata": {
    "colab": {
     "base_uri": "https://localhost:8080/",
     "height": 1145
    },
    "colab_type": "code",
    "id": "BAQoOYzQcK2y",
    "outputId": "b0a8a353-3358-44b1-bf43-f1c9b6c5924f"
   },
   "outputs": [
    {
     "data": {
      "image/png": "[encoded data removed]",
      "text/plain": [
       "<Figure size 720x432 with 1 Axes>"
      ]
     },
     "metadata": {
      "tags": []
     },
     "output_type": "display_data"
    },
    {
     "name": "stdout",
     "output_type": "stream",
     "text": [
      "******************************Classifcation Report******************************\n",
      "\n",
      "\n",
      "              precision    recall  f1-score   support\n",
      "\n",
      "           0       0.71      0.60      0.65      5846\n",
      "           1       0.65      0.76      0.70      5854\n",
      "\n",
      "    accuracy                           0.68     11700\n",
      "   macro avg       0.68      0.68      0.68     11700\n",
      "weighted avg       0.68      0.68      0.68     11700\n",
      "\n",
      "\n",
      "************************************Kappa Score************************************\n",
      "\n",
      "\n",
      "Kappa Score = 0.3549734497012521\n",
      "\n",
      "******************************Area Under Curve Score******************************\n",
      "\n",
      "\n",
      "AUC Score = 0.6774677431363545\n",
      "Number of probabilities to build ROC = 4605\n"
     ]
    },
    {
     "data": {
      "image/png": "[encoded data removed]",
      "text/plain": [
       "<Figure size 576x360 with 1 Axes>"
      ]
     },
     "metadata": {
      "tags": []
     },
     "output_type": "display_data"
    }
   ],
   "source": [
    "innomatics.classification_metric(yf_train,yf_train_pred,yf_train_pred_prob,['Joined','Not Joined'],n=950,verbose=True)"
   ]
  },
  {
   "cell_type": "code",
   "execution_count": 0,
   "metadata": {
    "colab": {},
    "colab_type": "code",
    "id": "zvjUX60FaoiK"
   },
   "outputs": [],
   "source": [
    "#Getting TN FP FN TP\n",
    "tn, fp, fn, tp = confusion_matrix(yf_train,yf_train_pred).ravel()"
   ]
  },
  {
   "cell_type": "code",
   "execution_count": 0,
   "metadata": {
    "colab": {
     "base_uri": "https://localhost:8080/",
     "height": 34
    },
    "colab_type": "code",
    "id": "yCLXnWSNeFgc",
    "outputId": "332a508a-c2b6-4d2c-b7fb-111115b5d643"
   },
   "outputs": [
    {
     "data": {
      "text/plain": [
       "(3502, 2344, 1429, 4425)"
      ]
     },
     "execution_count": 123,
     "metadata": {
      "tags": []
     },
     "output_type": "execute_result"
    }
   ],
   "source": [
    "tn, fp, fn, tp"
   ]
  },
  {
   "cell_type": "markdown",
   "metadata": {
    "colab_type": "text",
    "id": "lJlbug7vfh9j"
   },
   "source": [
    "### Given criteria:\n",
    "Cost of predicting **“Not Joining” as “Joining” (FPs) cases is 3 times\n",
    "more than predicting “Joining” as “Not Joining” (FNs)**\n",
    "From above we can see **FP's**:2344, **FN's**:1429 which is FP's are ~1.64 greater than FN's we doesn't satifies the conditions\n",
    "\n",
    "_from the_ **_above ROC_AUC _curve_** it is clear that the threshold probality value should be decreased in order to satifies the given criteria. but lets us find the point were the FP's to FN's ratio increase are decrease"
   ]
  },
  {
   "cell_type": "code",
   "execution_count": 0,
   "metadata": {
    "colab": {},
    "colab_type": "code",
    "id": "mX9DMBlfeIp4"
   },
   "outputs": [],
   "source": [
    "#A Simple loop to fit the given criteria \n",
    "probailites = np.linspace(0,1,num=100) #Genrating 100 values in between 0-1\n",
    "FP = [] #Store the genrated FP's in the list FP\n",
    "FN = [] #Store the genrated FN's in the list FN\n",
    "for p in probailites:\n",
    "  pre.th = p\n",
    "  yyf = pd.Series(yf_train_pred_prob)\n",
    "  yf_pred = yyf.apply(pre.predict_threshold)\n",
    "  tn, fp, fn, tp = confusion_matrix(yf_train,yf_pred).ravel()\n",
    "  FP.append(fp)\n",
    "  FN.append(fn)"
   ]
  },
  {
   "cell_type": "code",
   "execution_count": 0,
   "metadata": {
    "colab": {},
    "colab_type": "code",
    "id": "ap84boZZe41G"
   },
   "outputs": [],
   "source": [
    "#Simple DataFrame to get the ratio between the FP's & FN's\n",
    "FPS = pd.DataFrame(index=probailites) #Making index as probailies\n",
    "FPS['FP'] = FP #Adding the FP\n",
    "FPS['FN'] = FN #Adding the FN\n",
    "FPS['Ratio'] = np.array(FP)/np.array(FN) #Finding the ratio between them"
   ]
  },
  {
   "cell_type": "code",
   "execution_count": 0,
   "metadata": {
    "colab": {
     "base_uri": "https://localhost:8080/",
     "height": 197
    },
    "colab_type": "code",
    "id": "SvswYgpIfASG",
    "outputId": "c3e08e25-4966-4f55-fc9c-c8d34b3545c0"
   },
   "outputs": [
    {
     "data": {
      "text/html": [
       "<div>\n",
       "<style scoped>\n",
       "    .dataframe tbody tr th:only-of-type {\n",
       "        vertical-align: middle;\n",
       "    }\n",
       "\n",
       "    .dataframe tbody tr th {\n",
       "        vertical-align: top;\n",
       "    }\n",
       "\n",
       "    .dataframe thead th {\n",
       "        text-align: right;\n",
       "    }\n",
       "</style>\n",
       "<table border=\"1\" class=\"dataframe\">\n",
       "  <thead>\n",
       "    <tr style=\"text-align: right;\">\n",
       "      <th></th>\n",
       "      <th>FP</th>\n",
       "      <th>FN</th>\n",
       "      <th>Ratio</th>\n",
       "    </tr>\n",
       "  </thead>\n",
       "  <tbody>\n",
       "    <tr>\n",
       "      <th>0.000000</th>\n",
       "      <td>5846</td>\n",
       "      <td>0</td>\n",
       "      <td>inf</td>\n",
       "    </tr>\n",
       "    <tr>\n",
       "      <th>0.010101</th>\n",
       "      <td>4924</td>\n",
       "      <td>0</td>\n",
       "      <td>inf</td>\n",
       "    </tr>\n",
       "    <tr>\n",
       "      <th>0.020202</th>\n",
       "      <td>4836</td>\n",
       "      <td>0</td>\n",
       "      <td>inf</td>\n",
       "    </tr>\n",
       "    <tr>\n",
       "      <th>0.030303</th>\n",
       "      <td>4827</td>\n",
       "      <td>0</td>\n",
       "      <td>inf</td>\n",
       "    </tr>\n",
       "    <tr>\n",
       "      <th>0.040404</th>\n",
       "      <td>4824</td>\n",
       "      <td>0</td>\n",
       "      <td>inf</td>\n",
       "    </tr>\n",
       "  </tbody>\n",
       "</table>\n",
       "</div>"
      ],
      "text/plain": [
       "            FP  FN  Ratio\n",
       "0.000000  5846   0    inf\n",
       "0.010101  4924   0    inf\n",
       "0.020202  4836   0    inf\n",
       "0.030303  4827   0    inf\n",
       "0.040404  4824   0    inf"
      ]
     },
     "execution_count": 156,
     "metadata": {
      "tags": []
     },
     "output_type": "execute_result"
    }
   ],
   "source": [
    "#View\n",
    "FPS.head()"
   ]
  },
  {
   "cell_type": "code",
   "execution_count": 0,
   "metadata": {
    "colab": {
     "base_uri": "https://localhost:8080/",
     "height": 1397
    },
    "colab_type": "code",
    "id": "zdq1EHp2fCwF",
    "outputId": "4af5b125-75d6-4fc2-b8e6-301d51343ff6"
   },
   "outputs": [
    {
     "data": {
      "text/html": [
       "<div>\n",
       "<style scoped>\n",
       "    .dataframe tbody tr th:only-of-type {\n",
       "        vertical-align: middle;\n",
       "    }\n",
       "\n",
       "    .dataframe tbody tr th {\n",
       "        vertical-align: top;\n",
       "    }\n",
       "\n",
       "    .dataframe thead th {\n",
       "        text-align: right;\n",
       "    }\n",
       "</style>\n",
       "<table border=\"1\" class=\"dataframe\">\n",
       "  <thead>\n",
       "    <tr style=\"text-align: right;\">\n",
       "      <th></th>\n",
       "      <th>FP</th>\n",
       "      <th>FN</th>\n",
       "      <th>Ratio</th>\n",
       "    </tr>\n",
       "  </thead>\n",
       "  <tbody>\n",
       "    <tr>\n",
       "      <th>0.000000</th>\n",
       "      <td>5846</td>\n",
       "      <td>0</td>\n",
       "      <td>inf</td>\n",
       "    </tr>\n",
       "    <tr>\n",
       "      <th>0.010101</th>\n",
       "      <td>4924</td>\n",
       "      <td>0</td>\n",
       "      <td>inf</td>\n",
       "    </tr>\n",
       "    <tr>\n",
       "      <th>0.020202</th>\n",
       "      <td>4836</td>\n",
       "      <td>0</td>\n",
       "      <td>inf</td>\n",
       "    </tr>\n",
       "    <tr>\n",
       "      <th>0.030303</th>\n",
       "      <td>4827</td>\n",
       "      <td>0</td>\n",
       "      <td>inf</td>\n",
       "    </tr>\n",
       "    <tr>\n",
       "      <th>0.040404</th>\n",
       "      <td>4824</td>\n",
       "      <td>0</td>\n",
       "      <td>inf</td>\n",
       "    </tr>\n",
       "    <tr>\n",
       "      <th>0.050505</th>\n",
       "      <td>4823</td>\n",
       "      <td>0</td>\n",
       "      <td>inf</td>\n",
       "    </tr>\n",
       "    <tr>\n",
       "      <th>0.060606</th>\n",
       "      <td>4823</td>\n",
       "      <td>0</td>\n",
       "      <td>inf</td>\n",
       "    </tr>\n",
       "    <tr>\n",
       "      <th>0.070707</th>\n",
       "      <td>4822</td>\n",
       "      <td>0</td>\n",
       "      <td>inf</td>\n",
       "    </tr>\n",
       "    <tr>\n",
       "      <th>0.080808</th>\n",
       "      <td>4821</td>\n",
       "      <td>0</td>\n",
       "      <td>inf</td>\n",
       "    </tr>\n",
       "    <tr>\n",
       "      <th>0.090909</th>\n",
       "      <td>4816</td>\n",
       "      <td>0</td>\n",
       "      <td>inf</td>\n",
       "    </tr>\n",
       "    <tr>\n",
       "      <th>0.101010</th>\n",
       "      <td>4812</td>\n",
       "      <td>1</td>\n",
       "      <td>4812.000000</td>\n",
       "    </tr>\n",
       "    <tr>\n",
       "      <th>0.111111</th>\n",
       "      <td>4798</td>\n",
       "      <td>1</td>\n",
       "      <td>4798.000000</td>\n",
       "    </tr>\n",
       "    <tr>\n",
       "      <th>0.121212</th>\n",
       "      <td>4790</td>\n",
       "      <td>1</td>\n",
       "      <td>4790.000000</td>\n",
       "    </tr>\n",
       "    <tr>\n",
       "      <th>0.131313</th>\n",
       "      <td>4780</td>\n",
       "      <td>5</td>\n",
       "      <td>956.000000</td>\n",
       "    </tr>\n",
       "    <tr>\n",
       "      <th>0.141414</th>\n",
       "      <td>4763</td>\n",
       "      <td>5</td>\n",
       "      <td>952.600000</td>\n",
       "    </tr>\n",
       "    <tr>\n",
       "      <th>0.151515</th>\n",
       "      <td>4744</td>\n",
       "      <td>8</td>\n",
       "      <td>593.000000</td>\n",
       "    </tr>\n",
       "    <tr>\n",
       "      <th>0.161616</th>\n",
       "      <td>4727</td>\n",
       "      <td>10</td>\n",
       "      <td>472.700000</td>\n",
       "    </tr>\n",
       "    <tr>\n",
       "      <th>0.171717</th>\n",
       "      <td>4705</td>\n",
       "      <td>13</td>\n",
       "      <td>361.923077</td>\n",
       "    </tr>\n",
       "    <tr>\n",
       "      <th>0.181818</th>\n",
       "      <td>4682</td>\n",
       "      <td>17</td>\n",
       "      <td>275.411765</td>\n",
       "    </tr>\n",
       "    <tr>\n",
       "      <th>0.191919</th>\n",
       "      <td>4658</td>\n",
       "      <td>24</td>\n",
       "      <td>194.083333</td>\n",
       "    </tr>\n",
       "    <tr>\n",
       "      <th>0.202020</th>\n",
       "      <td>4623</td>\n",
       "      <td>33</td>\n",
       "      <td>140.090909</td>\n",
       "    </tr>\n",
       "    <tr>\n",
       "      <th>0.212121</th>\n",
       "      <td>4577</td>\n",
       "      <td>37</td>\n",
       "      <td>123.702703</td>\n",
       "    </tr>\n",
       "    <tr>\n",
       "      <th>0.222222</th>\n",
       "      <td>4540</td>\n",
       "      <td>57</td>\n",
       "      <td>79.649123</td>\n",
       "    </tr>\n",
       "    <tr>\n",
       "      <th>0.232323</th>\n",
       "      <td>4478</td>\n",
       "      <td>65</td>\n",
       "      <td>68.892308</td>\n",
       "    </tr>\n",
       "    <tr>\n",
       "      <th>0.242424</th>\n",
       "      <td>4437</td>\n",
       "      <td>77</td>\n",
       "      <td>57.623377</td>\n",
       "    </tr>\n",
       "    <tr>\n",
       "      <th>0.252525</th>\n",
       "      <td>4369</td>\n",
       "      <td>88</td>\n",
       "      <td>49.647727</td>\n",
       "    </tr>\n",
       "    <tr>\n",
       "      <th>0.262626</th>\n",
       "      <td>4331</td>\n",
       "      <td>112</td>\n",
       "      <td>38.669643</td>\n",
       "    </tr>\n",
       "    <tr>\n",
       "      <th>0.272727</th>\n",
       "      <td>4271</td>\n",
       "      <td>130</td>\n",
       "      <td>32.853846</td>\n",
       "    </tr>\n",
       "    <tr>\n",
       "      <th>0.282828</th>\n",
       "      <td>4220</td>\n",
       "      <td>150</td>\n",
       "      <td>28.133333</td>\n",
       "    </tr>\n",
       "    <tr>\n",
       "      <th>0.292929</th>\n",
       "      <td>4170</td>\n",
       "      <td>176</td>\n",
       "      <td>23.693182</td>\n",
       "    </tr>\n",
       "    <tr>\n",
       "      <th>0.303030</th>\n",
       "      <td>4100</td>\n",
       "      <td>203</td>\n",
       "      <td>20.197044</td>\n",
       "    </tr>\n",
       "    <tr>\n",
       "      <th>0.313131</th>\n",
       "      <td>4037</td>\n",
       "      <td>232</td>\n",
       "      <td>17.400862</td>\n",
       "    </tr>\n",
       "    <tr>\n",
       "      <th>0.323232</th>\n",
       "      <td>3966</td>\n",
       "      <td>259</td>\n",
       "      <td>15.312741</td>\n",
       "    </tr>\n",
       "    <tr>\n",
       "      <th>0.333333</th>\n",
       "      <td>3883</td>\n",
       "      <td>290</td>\n",
       "      <td>13.389655</td>\n",
       "    </tr>\n",
       "    <tr>\n",
       "      <th>0.343434</th>\n",
       "      <td>3805</td>\n",
       "      <td>321</td>\n",
       "      <td>11.853583</td>\n",
       "    </tr>\n",
       "    <tr>\n",
       "      <th>0.353535</th>\n",
       "      <td>3718</td>\n",
       "      <td>362</td>\n",
       "      <td>10.270718</td>\n",
       "    </tr>\n",
       "    <tr>\n",
       "      <th>0.363636</th>\n",
       "      <td>3623</td>\n",
       "      <td>400</td>\n",
       "      <td>9.057500</td>\n",
       "    </tr>\n",
       "    <tr>\n",
       "      <th>0.373737</th>\n",
       "      <td>3538</td>\n",
       "      <td>443</td>\n",
       "      <td>7.986456</td>\n",
       "    </tr>\n",
       "    <tr>\n",
       "      <th>0.383838</th>\n",
       "      <td>3456</td>\n",
       "      <td>505</td>\n",
       "      <td>6.843564</td>\n",
       "    </tr>\n",
       "    <tr>\n",
       "      <th>0.393939</th>\n",
       "      <td>3366</td>\n",
       "      <td>548</td>\n",
       "      <td>6.142336</td>\n",
       "    </tr>\n",
       "    <tr>\n",
       "      <th>0.404040</th>\n",
       "      <td>3263</td>\n",
       "      <td>598</td>\n",
       "      <td>5.456522</td>\n",
       "    </tr>\n",
       "    <tr>\n",
       "      <th>0.414141</th>\n",
       "      <td>3193</td>\n",
       "      <td>653</td>\n",
       "      <td>4.889740</td>\n",
       "    </tr>\n",
       "    <tr>\n",
       "      <th>0.424242</th>\n",
       "      <td>3091</td>\n",
       "      <td>720</td>\n",
       "      <td>4.293056</td>\n",
       "    </tr>\n",
       "    <tr>\n",
       "      <th>0.434343</th>\n",
       "      <td>2987</td>\n",
       "      <td>801</td>\n",
       "      <td>3.729089</td>\n",
       "    </tr>\n",
       "    <tr>\n",
       "      <th>0.444444</th>\n",
       "      <td>2892</td>\n",
       "      <td>905</td>\n",
       "      <td>3.195580</td>\n",
       "    </tr>\n",
       "  </tbody>\n",
       "</table>\n",
       "</div>"
      ],
      "text/plain": [
       "            FP   FN        Ratio\n",
       "0.000000  5846    0          inf\n",
       "0.010101  4924    0          inf\n",
       "0.020202  4836    0          inf\n",
       "0.030303  4827    0          inf\n",
       "0.040404  4824    0          inf\n",
       "0.050505  4823    0          inf\n",
       "0.060606  4823    0          inf\n",
       "0.070707  4822    0          inf\n",
       "0.080808  4821    0          inf\n",
       "0.090909  4816    0          inf\n",
       "0.101010  4812    1  4812.000000\n",
       "0.111111  4798    1  4798.000000\n",
       "0.121212  4790    1  4790.000000\n",
       "0.131313  4780    5   956.000000\n",
       "0.141414  4763    5   952.600000\n",
       "0.151515  4744    8   593.000000\n",
       "0.161616  4727   10   472.700000\n",
       "0.171717  4705   13   361.923077\n",
       "0.181818  4682   17   275.411765\n",
       "0.191919  4658   24   194.083333\n",
       "0.202020  4623   33   140.090909\n",
       "0.212121  4577   37   123.702703\n",
       "0.222222  4540   57    79.649123\n",
       "0.232323  4478   65    68.892308\n",
       "0.242424  4437   77    57.623377\n",
       "0.252525  4369   88    49.647727\n",
       "0.262626  4331  112    38.669643\n",
       "0.272727  4271  130    32.853846\n",
       "0.282828  4220  150    28.133333\n",
       "0.292929  4170  176    23.693182\n",
       "0.303030  4100  203    20.197044\n",
       "0.313131  4037  232    17.400862\n",
       "0.323232  3966  259    15.312741\n",
       "0.333333  3883  290    13.389655\n",
       "0.343434  3805  321    11.853583\n",
       "0.353535  3718  362    10.270718\n",
       "0.363636  3623  400     9.057500\n",
       "0.373737  3538  443     7.986456\n",
       "0.383838  3456  505     6.843564\n",
       "0.393939  3366  548     6.142336\n",
       "0.404040  3263  598     5.456522\n",
       "0.414141  3193  653     4.889740\n",
       "0.424242  3091  720     4.293056\n",
       "0.434343  2987  801     3.729089\n",
       "0.444444  2892  905     3.195580"
      ]
     },
     "execution_count": 158,
     "metadata": {
      "tags": []
     },
     "output_type": "execute_result"
    }
   ],
   "source": [
    "#Filterting the ratio to be greater than '3'\n",
    "FPS[FPS[\"Ratio\"]>3]"
   ]
  },
  {
   "cell_type": "markdown",
   "metadata": {
    "colab_type": "text",
    "id": "j1V5q8Fjqc0J"
   },
   "source": [
    "From above dataframe it is clear that the **ratio between the FP's to FN's** are started to increase from the probability values of **0.4444**"
   ]
  },
  {
   "cell_type": "code",
   "execution_count": 0,
   "metadata": {
    "colab": {},
    "colab_type": "code",
    "id": "K1gGF-jBswE4"
   },
   "outputs": [],
   "source": [
    "#Predicating the test values\n",
    "yf_test_pred = model_2.predict(xf_test)"
   ]
  },
  {
   "cell_type": "code",
   "execution_count": 0,
   "metadata": {
    "colab": {},
    "colab_type": "code",
    "id": "LroqistqswFB"
   },
   "outputs": [],
   "source": [
    "#considering only postive prob\n",
    "yf_test_pred_prob = model_2.predict_proba(xf_test)[:,1] "
   ]
  },
  {
   "cell_type": "code",
   "execution_count": 0,
   "metadata": {
    "colab": {},
    "colab_type": "code",
    "id": "JCzrvzw7l-a0"
   },
   "outputs": [],
   "source": [
    "#Predicating again with the new prob value\n",
    "pre.th = 0.4444\n",
    "yyf_test = pd.Series(yf_test_pred_prob)\n",
    "yyf_train = pd.Series(yf_train_pred_prob)\n",
    "yf_pred_test = yyf_test.apply(pre.predict_threshold)\n",
    "yf_pred_train = yyf_train.apply(pre.predict_threshold)"
   ]
  },
  {
   "cell_type": "code",
   "execution_count": 0,
   "metadata": {
    "colab": {
     "base_uri": "https://localhost:8080/",
     "height": 247
    },
    "colab_type": "code",
    "id": "R3Jk6yW_s_6Q",
    "outputId": "878c6d06-6a58-4f22-84c0-42d8b64c3f7b"
   },
   "outputs": [
    {
     "name": "stdout",
     "output_type": "stream",
     "text": [
      "              precision    recall  f1-score   support\n",
      "\n",
      "           0       0.77      0.50      0.61      5846\n",
      "           1       0.63      0.85      0.72      5854\n",
      "\n",
      "    accuracy                           0.68     11700\n",
      "   macro avg       0.70      0.68      0.67     11700\n",
      "weighted avg       0.70      0.68      0.67     11700\n",
      "\n",
      "TP's = 4951\n",
      "FP's = 2894 \n",
      "FN's = 903 \n",
      "TN's = 2952 \n"
     ]
    }
   ],
   "source": [
    "#classification report for new genrated values !train\n",
    "cr = classification_report(yf_train,yf_pred_train)\n",
    "tn, fp, fn, tp = confusion_matrix(yf_train,yf_pred_train).ravel()\n",
    "print(cr)\n",
    "print(\"TP's = {}\\nFP's = {} \\nFN's = {} \\nTN's = {} \".format(tp, fp, fn, tn))"
   ]
  },
  {
   "cell_type": "code",
   "execution_count": 0,
   "metadata": {
    "colab": {
     "base_uri": "https://localhost:8080/",
     "height": 247
    },
    "colab_type": "code",
    "id": "xoRnEaT8tQzN",
    "outputId": "5b8e602d-b186-4453-cf8e-c0446be91aa8"
   },
   "outputs": [
    {
     "name": "stdout",
     "output_type": "stream",
     "text": [
      "              precision    recall  f1-score   support\n",
      "\n",
      "           0       0.78      0.53      0.63      1467\n",
      "           1       0.64      0.85      0.73      1459\n",
      "\n",
      "    accuracy                           0.69      2926\n",
      "   macro avg       0.71      0.69      0.68      2926\n",
      "weighted avg       0.71      0.69      0.68      2926\n",
      "\n",
      "TP's = 1241\n",
      "FP's = 692 \n",
      "FN's = 218 \n",
      "TN's = 775 \n"
     ]
    }
   ],
   "source": [
    "#classification report for new genrated values !test\n",
    "cr = classification_report(yf_test,yf_pred_test)\n",
    "tn, fp, fn, tp = confusion_matrix(yf_test,yf_pred_test).ravel()\n",
    "print(cr)\n",
    "print(\"TP's = {}\\nFP's = {} \\nFN's = {} \\nTN's = {} \".format(tp, fp, fn, tn))"
   ]
  },
  {
   "cell_type": "code",
   "execution_count": 0,
   "metadata": {
    "colab": {
     "base_uri": "https://localhost:8080/",
     "height": 414
    },
    "colab_type": "code",
    "id": "78wNVZeawG0q",
    "outputId": "e48edf45-6ecb-4efc-dbfe-0034820eb337"
   },
   "outputs": [
    {
     "data": {
      "image/png": "[encoded data removed]",
      "text/plain": [
       "<Figure size 720x432 with 1 Axes>"
      ]
     },
     "metadata": {
      "tags": []
     },
     "output_type": "display_data"
    }
   ],
   "source": [
    "#confusion matrix for new genrated data \n",
    "plt.figure(figsize=(10,6))\n",
    "sns.heatmap(np.array([[4951,2894],[903,2952]]),annot=True,fmt='.2f',cbar=False\n",
    "            ,xticklabels=['Not Joined','Joined'],yticklabels=['Not Joined','Joined'],cmap='Set2',linewidths=1.5)\n",
    "plt.xlabel('Predicted Values',fontsize=15)\n",
    "plt.ylabel('Actual Values',fontsize=15)\n",
    "plt.title('Confusion Matrix',fontsize=20)\n",
    "plt.show()"
   ]
  },
  {
   "cell_type": "markdown",
   "metadata": {
    "colab_type": "text",
    "id": "dQM3r_D3znNh"
   },
   "source": [
    "As for the given criteria which is FP's should be 3 time more than the FN's the cut-off probability choosen is **0.4444**\n",
    "\n",
    "**$\\frac{FP's}{FN's}$ ~ 3**\n",
    "\n",
    "_! Below values are for the train data_\n",
    "\n",
    "**Precision = $\\frac{TP's}{TP's + FP's}$ = $\\frac{4951}{4951 + 2894}$ ~ 0.63**\n",
    "\n",
    "**Recall = $\\frac{TP's}{TP's + FN's}$ = $\\frac{4951}{4951 + 903}$ ~ 0.85**\n",
    "\n"
   ]
  }
 ],
 "metadata": {
  "accelerator": "GPU",
  "colab": {
   "collapsed_sections": [],
   "name": "HR.ipynb",
   "provenance": []
  },
  "kernelspec": {
   "display_name": "Python 3",
   "language": "python",
   "name": "python3"
  },
  "language_info": {
   "codemirror_mode": {
    "name": "ipython",
    "version": 3
   },
   "file_extension": ".py",
   "mimetype": "text/x-python",
   "name": "python",
   "nbconvert_exporter": "python",
   "pygments_lexer": "ipython3",
   "version": "3.7.3"
  }
 },
 "nbformat": 4,
 "nbformat_minor": 1
}
